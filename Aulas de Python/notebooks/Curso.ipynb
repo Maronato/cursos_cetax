{
 "cells": [
  {
   "cell_type": "markdown",
   "metadata": {
    "collapsed": true
   },
   "source": [
    "# Setup\n",
    "\n",
    "Esse curso está disponível para download no [GitHub](https://github.com/Maronato/cursos_cetax).\n",
    "\n",
    "![image](../static/images/repo.png)\n",
    "\n",
    "# Introdução\n",
    "\n",
    "Python é uma linguagem general purpose, open source, modular, interpretada, de tipagem dinâmica/forte e multiparadigma. Essas qualidades tornam Python uma linguagem fantástica para criar scripts e desenvolver rapidamente aplicações em diversas áreas e plataformas.\n",
    "\n",
    "Python é uma das principais linguagens usadas para o desenvolvimento e aplicação de soluções que envolvem data science e pode ser usada para construir desde o núcleo dos algoritmos até as visualizações e plataformas finais de aplicativos.\n",
    "\n",
    "Python também é muito usada na academia por sua flexibilidade e facilidade, além de possuir suporte para incorporar bibliotecas de C, permitindo explorar a velocidade de uma linguagem baixo nível com as conveniências de uma sintaxe alto nível.\n",
    "\n",
    "Python atualmente está disponível em duas versões: 2 e 3. Como o suporte para versão 2 está diminuindo, iremos focar na versão mais atual, a 3.\n",
    "\n",
    "# Executando código\n",
    "\n",
    "Python, por ser interpretada, conta com um **shell** que te permite executar código em tempo real. Esse notebook usa uma versão desse shell chamado **IPython**, de Python Interativo. Essa versão permite algumas coisas interessantes como visualizações de gráficos e outras coisas que veremos ao longo do curso.\n",
    "\n",
    "Para iniciar o shell em seu terminal, basta executar `python`. Você verá algo como isso:\n",
    "![image](../static/images/shell.png)\n",
    "\n",
    "Que indica a versão instalada (python 3.5.3), nos informa que estamos usando o interpretador do Anaconda e que nossa versão de Python é a cPython(usando GCC).\n",
    "\n",
    "Também vemos `>>>` indicando que podemos digitar algo. Tudo que você digitar aí será executado como código python.\n",
    "\n",
    "Vamos deixar o shell de lado por enquanto e focar nesse notebook. Da mesma forma que no shell, você também pode executar código python aqui. Basta procurar por uma linha como a que está abaixo e digitar o que querem executar. Para criar uma linha nova, clique no `+` que está no toolbox do notebook, logo acima.\n",
    "\n",
    "Para executar o código que você digitou, aperte `shift+enter`:"
   ]
  },
  {
   "cell_type": "code",
   "execution_count": null,
   "metadata": {},
   "outputs": [],
   "source": [
    "3 + 5"
   ]
  },
  {
   "cell_type": "markdown",
   "metadata": {},
   "source": [
    "O shell e notebooks não são muito uteis além do estágio de desenvolvimento. Para produzir código utilizável em produção, nós criamos `scripts` de Python, que nada mais são que arquivos de texto com a extenção `.py` que são executados pelo interpretador da mesma forma que seu código aqui ou no shell seria.\n",
    "\n",
    "Na pasta dessa aula você encontrará uma pasta chamada `/arquivos` com alguns exemplos de scripts. Para executar esses scripts, navegue até a pasta do script em seu terminal e execute\n",
    "```\n",
    "python <script>.py\n",
    "```\n",
    "Substituindo `<script>` pelo nome do script que você quer executar.\n",
    "\n",
    "Agora que já sabemos executar comandos, vamos aprender Python.\n",
    "\n",
    "# Variáveis\n",
    "\n",
    "Python, como comentado antes, é uma linguagem de tipagem dinâmica, ou seja, não é necessário declarar o tipo da variável antes de usá-la.\n",
    "\n",
    "Para declarar uma variável, basta dizer o nome da varíavel que você quer criar ou alterar, seguida de um `=` e o valor desejado."
   ]
  },
  {
   "cell_type": "code",
   "execution_count": null,
   "metadata": {
    "collapsed": true
   },
   "outputs": [],
   "source": [
    "foo = 42\n",
    "bar = \"sou um texto\""
   ]
  },
  {
   "cell_type": "markdown",
   "metadata": {
    "collapsed": true
   },
   "source": [
    "Para acessar o valor da variável basta chamá-la pelo nome."
   ]
  },
  {
   "cell_type": "code",
   "execution_count": null,
   "metadata": {},
   "outputs": [],
   "source": [
    "foo"
   ]
  },
  {
   "cell_type": "code",
   "execution_count": null,
   "metadata": {},
   "outputs": [],
   "source": [
    "bar"
   ]
  },
  {
   "cell_type": "markdown",
   "metadata": {},
   "source": [
    "Uma melhor forma de visualizar os valores de variáveis é usando a função `print()`:"
   ]
  },
  {
   "cell_type": "code",
   "execution_count": null,
   "metadata": {},
   "outputs": [],
   "source": [
    "print(foo)\n",
    "print(bar)"
   ]
  },
  {
   "cell_type": "markdown",
   "metadata": {},
   "source": [
    "Podemos alterar os valores anteriores dessas variáveis e realizar operações com elas:"
   ]
  },
  {
   "cell_type": "code",
   "execution_count": null,
   "metadata": {},
   "outputs": [],
   "source": [
    "foo = 35\n",
    "bar = 7.505\n",
    "print(foo + bar)"
   ]
  },
  {
   "cell_type": "markdown",
   "metadata": {},
   "source": [
    "Apesar de não termos que declarar, as variáveis em python continuam possuindo tipos.\n",
    "\n",
    "Podemos verificar esses tipos usando a função `type()`"
   ]
  },
  {
   "cell_type": "code",
   "execution_count": null,
   "metadata": {},
   "outputs": [],
   "source": [
    "print(type(foo))\n",
    "print(type(bar))\n",
    "print(type(\"Um texto\"))"
   ]
  },
  {
   "cell_type": "markdown",
   "metadata": {},
   "source": [
    "Podemos ver que `foo` é um **objeto** de classe **int** (número inteiro) e que `bar` é um objeto de classe **float** (ponto flutuante).\n",
    "\n",
    "Além disso, podemos ver que o texto \"Um texto\" é um objeto de classe **str** (uma *string* - texto)\n",
    "\n",
    "Como veremos no futuro, tudo em python são **objetos**, mas isso raramente vai entrar em nosso caminho durante a programação.\n",
    "\n",
    "Outros tipos de variáveis importantes são os **booleanos**, que representam **verdadeiro** e **falso**.\n",
    "\n",
    "Existem apenas dois valores para um booleano: `True` e `False`. Notem que a primeira letra maiúscula **é essencial**."
   ]
  },
  {
   "cell_type": "code",
   "execution_count": null,
   "metadata": {},
   "outputs": [],
   "source": [
    "baz = True\n",
    "print(type(baz))"
   ]
  },
  {
   "cell_type": "markdown",
   "metadata": {},
   "source": [
    "Além dessas variáveis, Python também tem suporte para outras estruturas de dados. Talvez a mais simples seja Lista\n",
    "\n",
    "## Listas\n",
    "\n",
    "Lista em Python são bem poderosas e fáceis de usar. Para criar uma lista, use `[` e `]` para abrir e fechar, separando elementos por vígulas:"
   ]
  },
  {
   "cell_type": "code",
   "execution_count": null,
   "metadata": {
    "collapsed": true
   },
   "outputs": [],
   "source": [
    "qux = [1, 2, 3, 10]"
   ]
  },
  {
   "cell_type": "markdown",
   "metadata": {},
   "source": [
    "Novamente, verificamos que o tipo é `list`"
   ]
  },
  {
   "cell_type": "code",
   "execution_count": null,
   "metadata": {},
   "outputs": [],
   "source": [
    "print(type(qux))"
   ]
  },
  {
   "cell_type": "markdown",
   "metadata": {},
   "source": [
    "Listas em Python não são limitadas pelo tipo de objeto dentro dela. Podemos colocar qualquer coisa dentro de uma lista."
   ]
  },
  {
   "cell_type": "code",
   "execution_count": null,
   "metadata": {
    "collapsed": true
   },
   "outputs": [],
   "source": [
    "qux = [foo, bar, baz, 56, False, 123]"
   ]
  },
  {
   "cell_type": "markdown",
   "metadata": {},
   "source": [
    "Podemos imprimir a lista usando `print()`"
   ]
  },
  {
   "cell_type": "code",
   "execution_count": null,
   "metadata": {},
   "outputs": [],
   "source": [
    "print(qux)"
   ]
  },
  {
   "cell_type": "markdown",
   "metadata": {},
   "source": [
    "e podemos adicionar listas dentro de listas para formar matrizes"
   ]
  },
  {
   "cell_type": "code",
   "execution_count": null,
   "metadata": {},
   "outputs": [],
   "source": [
    "quux = [[1, 2, 5], [10, [False, 21], 30], baz]\n",
    "\n",
    "print(quux)"
   ]
  },
  {
   "cell_type": "markdown",
   "metadata": {},
   "source": [
    "Podemos reescrever a lista acima de outra forma para ser mais fácil de ler:"
   ]
  },
  {
   "cell_type": "code",
   "execution_count": null,
   "metadata": {},
   "outputs": [],
   "source": [
    "quux = [\n",
    "    [1, 2, 5],\n",
    "    [10, [False, 21], 30], \n",
    "    baz\n",
    "]\n",
    "\n",
    "print(quux)"
   ]
  },
  {
   "cell_type": "markdown",
   "metadata": {},
   "source": [
    "Com a lista criada, nós também queremos poder acessar elementos dessa lista. Para fazer isso, usamos `[idx]`:\n",
    "\n",
    "Por exemplo, abaixo nós selecionamos o segundo elemento da lista `quux`. Esse elemento é uma lista. Podemos então selecionar elementos do segundo elemento.\n",
    "\n",
    "Selecionamos então o segundo elemento do segundo elemento e em seguida o segundo elemento deste!\n",
    "\n",
    "Devemos lembrar que, em Python, **o primeiro elemento tem índice zero**"
   ]
  },
  {
   "cell_type": "code",
   "execution_count": null,
   "metadata": {},
   "outputs": [],
   "source": [
    "# Segundo elemento da lista (índice 1)\n",
    "print(quux[1])\n",
    "\n",
    "# Segundo elemento do segundo elemento\n",
    "print(quux[1][1])\n",
    "\n",
    "# Segundo elemento do segundo elemento do segundo elemento\n",
    "print(quux[1][1][1])"
   ]
  },
  {
   "cell_type": "markdown",
   "metadata": {},
   "source": [
    "Podemos também usar indices negativos para percorrer a lista no sentido contrário. Dessa forma, podemos pegar o **último** elemento da lista usando o índice **-1** e o penúltimo usando **-2**, etc:"
   ]
  },
  {
   "cell_type": "code",
   "execution_count": null,
   "metadata": {},
   "outputs": [],
   "source": [
    "# Criamos uma lista maior\n",
    "quuz = [0, 1, 2, 3, 4, 5, 6, 7, 8, 9, 10]\n",
    "\n",
    "# último e penúltimo elementos\n",
    "print(quuz[-1])\n",
    "print(quuz[-2])"
   ]
  },
  {
   "cell_type": "markdown",
   "metadata": {},
   "source": [
    "Além de selecionar elementos, podemos também selecionar fatias da lista usando a notação `[início:fim:salto]`.\n",
    "\n",
    "Onde início indica o início da fatia, fim o final e salto o salto representa a forma como percorreremos a lista.\n",
    "\n",
    "Observe que o índice do *início* é **inclusivo** e o do *final* **exclusivo**"
   ]
  },
  {
   "cell_type": "code",
   "execution_count": null,
   "metadata": {},
   "outputs": [],
   "source": [
    "print(\"Do terceiro ao oitavo (não incluído pois é exclusivo)\")\n",
    "print(quuz[2:7])\n",
    "\n",
    "print(\"\\nTodos os elementos da lista\")\n",
    "print(quuz[:])\n",
    "\n",
    "print(\"\\nDo terceiro ao final\")\n",
    "print(quuz[2:])\n",
    "\n",
    "print(\"\\nAté o oitavo\")\n",
    "print(quuz[:7])\n",
    "\n",
    "print(\"\\nDo terceiro ao oitavo, de dois em dois\")\n",
    "print(quuz[2:7:2])\n",
    "\n",
    "print(\"\\nLista ao contrário (salto -1)\")\n",
    "print(quuz[::-1])"
   ]
  },
  {
   "cell_type": "markdown",
   "metadata": {},
   "source": [
    "### Modificando listas\n",
    "Agora que já sabemos criar e fatiar listas, vamos aprender a modificar elas.\n",
    "\n",
    "Com modificação, temos 3 principais ações de interesse:\n",
    "- Editar elementos\n",
    "- Adicionar elementos\n",
    "- Remover elementos\n",
    "\n",
    "Para modificar, fazemos como faríamos com uma variável. Selecionamos o elemento pelo índice e alteramos seu valor:"
   ]
  },
  {
   "cell_type": "code",
   "execution_count": null,
   "metadata": {},
   "outputs": [],
   "source": [
    "# Alterando o quarto elemento para \"sou um texto\"\n",
    "quuz[3] = \"sou um texto\"\n",
    "\n",
    "print(quuz)"
   ]
  },
  {
   "cell_type": "markdown",
   "metadata": {},
   "source": [
    "Podemos adicionar elementos ao final da lista usando o **método** `append()`.\n",
    "\n",
    "Veremos que existem centenas de métodos prontos em Python que serão úteis para realizar operações como essas.\n",
    "\n",
    "Para usar o append, digite o nome da lista seguido de um `.append(<elemento novo>)`:"
   ]
  },
  {
   "cell_type": "code",
   "execution_count": null,
   "metadata": {
    "scrolled": true
   },
   "outputs": [],
   "source": [
    "# Adicionando \"sou outro texto\" ao fim da lista\n",
    "quuz.append(\"sou outro texto\")\n",
    "\n",
    "print(quuz)"
   ]
  },
  {
   "cell_type": "markdown",
   "metadata": {},
   "source": [
    "Por fim, podemos remover um elemento de uma lista usando o método `pop()`"
   ]
  },
  {
   "cell_type": "code",
   "execution_count": null,
   "metadata": {},
   "outputs": [],
   "source": [
    "# removendo o quinto elemento\n",
    "quuz.pop(4)\n",
    "\n",
    "print(quuz)"
   ]
  },
  {
   "cell_type": "markdown",
   "metadata": {},
   "source": [
    "Tem muito mais coisas que você pode fazer com uma lista. Para detalhes, olhe a [documentação](https://docs.python.org/3/tutorial/datastructures.html#more-on-lists).\n",
    "\n",
    "Outra estrutura extermamente importante são dicionários.\n",
    "\n",
    "# Dicionários\n",
    "Dicionários são nada menos que hash tables. Cada entrada no dicionário é representado por uma `key` e um `value`. Para acessar valores usamos essas `keys` ao invés dos índices como fazíamos com listas.\n",
    "\n",
    "Dicionários, por serem hash tables, não são ordenados.\n",
    "\n",
    "Para criar um dicionário, use a sintaxe abaixo:"
   ]
  },
  {
   "cell_type": "code",
   "execution_count": null,
   "metadata": {},
   "outputs": [],
   "source": [
    "dicio = {\"chave 1\": 10, \"chave 2\": \"sou um valor\", \"chave 3\": [1, 3, 10]}\n",
    "\n",
    "# Acessamos os valores pelas chaves\n",
    "print(dicio[\"chave 2\"])\n",
    "print(dicio[\"chave 3\"][2])"
   ]
  },
  {
   "cell_type": "markdown",
   "metadata": {},
   "source": [
    "Agora vamos sair um pouco de dicionários e passar por cima dos métodos de Python para operações booleanas.\n",
    "\n",
    "# Lógica booleana\n",
    "\n",
    "Operações lógicas são o coração das linguagens de programação. Em Python temos diversas formas de testar estruturas e conjuntos.\n",
    "\n",
    "## Comparações de pares\n",
    "As operações entre pares são:\n",
    "\n",
    "`<, <=, >, >=, ==, !=`\n",
    "\n",
    "Python avalia cada operação e um bool é atribuido para cada uma."
   ]
  },
  {
   "cell_type": "code",
   "execution_count": null,
   "metadata": {},
   "outputs": [],
   "source": [
    "print(1 < 2)\n",
    "print(2 < 1)\n",
    "\n",
    "buq = 10\n",
    "print(10 == buq)\n",
    "\n",
    "# Também podemos adicionar várias condições em cadeia\n",
    "print(1 < 2 < 10 == buq)"
   ]
  },
  {
   "cell_type": "markdown",
   "metadata": {},
   "source": [
    "## Comparações de conjuntos\n",
    "\n",
    "Python também permite checar pertencimento em conjuntos\n",
    "\n",
    "Para isso, usamos o operador `in`"
   ]
  },
  {
   "cell_type": "code",
   "execution_count": null,
   "metadata": {},
   "outputs": [],
   "source": [
    "print(5 in [1, 2, 3, 4])\n",
    "\n",
    "print(5 in [1, 2, 3, 4, 5])\n",
    "\n",
    "# Também serve com strings e outras estruturas\n",
    "print(\"bom\" in \"esse é um mau exemplo\")\n",
    "\n",
    "print(\"bom\" in \"esse é um bom exemplo\")"
   ]
  },
  {
   "cell_type": "markdown",
   "metadata": {},
   "source": [
    "## Operadores de lógica\n",
    "\n",
    "Podemos realizar operações de lógica com `or`, `and` e `not`"
   ]
  },
  {
   "cell_type": "code",
   "execution_count": null,
   "metadata": {},
   "outputs": [],
   "source": [
    "print(True and False)\n",
    "\n",
    "print(True or False)\n",
    "\n",
    "print(not (True and False))"
   ]
  },
  {
   "cell_type": "markdown",
   "metadata": {},
   "source": [
    "## Operadores de identidade\n",
    "\n",
    "Python também permite outras operações mais alto nível"
   ]
  },
  {
   "cell_type": "code",
   "execution_count": null,
   "metadata": {},
   "outputs": [],
   "source": [
    "buuq = 19998989890\n",
    "baaq = 19998989889 + 1\n",
    "print(buuq is baaq)\n",
    "\n",
    "# Mesmo que\n",
    "print(buuq == baaq)\n",
    "\n",
    "# Podemos também verificar tipos\n",
    "print(isinstance(5, int))"
   ]
  },
  {
   "cell_type": "markdown",
   "metadata": {},
   "source": [
    "## If - else\n",
    "\n",
    "Em python podemos usar `if`, `else` e `elif`(else if) como em outras linguagens.\n",
    "\n",
    "É importante notar que python **separa escopos por indentação**. Usaremos 4 espaços(1 tab) para nossas identações."
   ]
  },
  {
   "cell_type": "code",
   "execution_count": null,
   "metadata": {},
   "outputs": [],
   "source": [
    "a = 1\n",
    "b = 10\n",
    "if a < b:\n",
    "    print(str(a) + \" < \" + str(b))\n",
    "elif a > b:\n",
    "    print(str(a) + \" > \" + str(b))\n",
    "else:\n",
    "    print(str(a) + \" == \" + str(b))"
   ]
  },
  {
   "cell_type": "markdown",
   "metadata": {},
   "source": [
    "# Loops\n",
    "\n",
    "Python permite dois tipos de loop: `for` e `while`\n",
    "\n",
    "## For loop\n",
    "\n",
    "Em python, o `for loop` usa iteradores para caminhar pelas iterações:"
   ]
  },
  {
   "cell_type": "code",
   "execution_count": null,
   "metadata": {},
   "outputs": [],
   "source": [
    "for i in [1, 3, 10, 100]:\n",
    "    print(i)"
   ]
  },
  {
   "cell_type": "code",
   "execution_count": null,
   "metadata": {},
   "outputs": [],
   "source": [
    "# Para iterar n vezes usamos o gerador range()\n",
    "\n",
    "for valor in range(5):\n",
    "    print(valor)"
   ]
  },
  {
   "cell_type": "code",
   "execution_count": null,
   "metadata": {},
   "outputs": [],
   "source": [
    "# Podemos também iterar por textos e outras coleções de dados:\n",
    "for letra in \"Sou um texto\":\n",
    "    print(letra)"
   ]
  },
  {
   "cell_type": "code",
   "execution_count": null,
   "metadata": {},
   "outputs": [],
   "source": [
    "# Loops também podem descompactar mais de um item por vez\n",
    "# Aqui usamos o método .items() dos dicionários para pegar sua key e valor de uma vez\n",
    "for key, value in dicio.items():\n",
    "    print(\"chave: {}, valor: {}\".format(key, value))"
   ]
  },
  {
   "cell_type": "markdown",
   "metadata": {},
   "source": [
    "## While loop\n",
    "\n",
    "Outro loop interessante é o while. Ele repete enquanto a condição for verdadeira"
   ]
  },
  {
   "cell_type": "code",
   "execution_count": null,
   "metadata": {},
   "outputs": [],
   "source": [
    "num = 0\n",
    "while num < 5:\n",
    "    print(num)\n",
    "    num += 1"
   ]
  },
  {
   "cell_type": "markdown",
   "metadata": {},
   "source": [
    "# Funções\n",
    "\n",
    "Funções em Python são muito versáteis. Podemos passar argumentos sequenciais ou como dicionários. Podemos retornar e passar qualquer tipo de estrutura sem precisar definir antes"
   ]
  },
  {
   "cell_type": "code",
   "execution_count": null,
   "metadata": {},
   "outputs": [],
   "source": [
    "# Essa é uma funcao chamada funcao que não recebe argumentos\n",
    "def funcao():\n",
    "    return 1 + 10\n",
    "\n",
    "# Para chamar a função, chame seu nome seguido de ()\n",
    "print(funcao())"
   ]
  },
  {
   "cell_type": "code",
   "execution_count": null,
   "metadata": {},
   "outputs": [],
   "source": [
    "# Já essa função recebe alguns argumentos\n",
    "def funcao2(a, b):\n",
    "    return a ** b\n",
    "\n",
    "print(funcao2(15, 2))"
   ]
  },
  {
   "cell_type": "code",
   "execution_count": null,
   "metadata": {},
   "outputs": [],
   "source": [
    "# Podemos também usar argumentos nomeados que podem ser passados em qualquer ordem\n",
    "print(funcao2(b=3, a=10))"
   ]
  },
  {
   "cell_type": "code",
   "execution_count": null,
   "metadata": {},
   "outputs": [],
   "source": [
    "# E podemos também definir valores-padrão para os argumentos\n",
    "def funcao3(a=10, b=2):\n",
    "    # podemos chamar funções dentro de funções\n",
    "    return funcao2(a, b)\n",
    "\n",
    "# Nesse tipo de função, passarei apenas o b, deixando o a usar o valor padrão de 10\n",
    "print(funcao3(b=10))"
   ]
  },
  {
   "cell_type": "markdown",
   "metadata": {},
   "source": [
    "# Pacotes e módulos\n",
    "\n",
    "A grande vantagem de python, que o coloca acima de diversas outras linguagens em praticidade é sua modularidade.\n",
    "\n",
    "Raramente você vai precisar escrever algo complexo por conta própria, pois existem diversos pacotes grátis e disponíveis para qualquer um usar.\n",
    "\n",
    "A biblioteca que instalamos, Anaconda, vem com vários desses pacotes já pré-instalados, mas você sempre pode adicionar mais usando comandos como o [pip](https://pypi.python.org/pypi/pip) que é um package manager que te dá acesso à [PyPi](https://pypi.python.org/pypi?%3Aaction=browse), um repositório com milhares de pacotes disponíveis e prontos para uso.\n",
    "\n",
    "Abaixo nós aprenderemos a usar algumas ferramentas de 3 dos pacotes mais importantes para data science"
   ]
  },
  {
   "cell_type": "markdown",
   "metadata": {
    "collapsed": true
   },
   "source": [
    "# Numpy\n",
    "\n",
    "Numpy é o maior pacote de análises numéricas de Python. É altamente eficiente e consegue fazer coisas bem legais.\n",
    "\n",
    "Seu principal uso é manipulação de arrays e matrizes multidimensionais.\n",
    "\n",
    "Primeiro vamos aprender a importar numpy para usarmos em nossos programas:"
   ]
  },
  {
   "cell_type": "code",
   "execution_count": null,
   "metadata": {
    "collapsed": true
   },
   "outputs": [],
   "source": [
    "import numpy"
   ]
  },
  {
   "cell_type": "markdown",
   "metadata": {},
   "source": [
    "Pronto, agora podemos usar numpy.\n",
    "\n",
    "É convenção, porém, criar um apelido para numpy e chamá-lo de `np`. Fazemos isso assim:"
   ]
  },
  {
   "cell_type": "code",
   "execution_count": null,
   "metadata": {
    "collapsed": true
   },
   "outputs": [],
   "source": [
    "import numpy as np"
   ]
  },
  {
   "cell_type": "markdown",
   "metadata": {},
   "source": [
    "Vamos agora explorar algumas funções e métodos do numpy. Primeiro como criar um array de uma dimensão.\n",
    "\n",
    "Podemos usar a função `np.arange()` para criar um `array` em um intervalo."
   ]
  },
  {
   "cell_type": "code",
   "execution_count": null,
   "metadata": {},
   "outputs": [],
   "source": [
    "# Criamos um array de 15 items de 0 a 14\n",
    "arr = np.arange(15)\n",
    "print(arr)"
   ]
  },
  {
   "cell_type": "markdown",
   "metadata": {},
   "source": [
    "podemos rearranjar esse array em uma matriz 3 x 5"
   ]
  },
  {
   "cell_type": "code",
   "execution_count": null,
   "metadata": {},
   "outputs": [],
   "source": [
    "arr = arr.reshape(3, 5)\n",
    "print(arr)"
   ]
  },
  {
   "cell_type": "markdown",
   "metadata": {},
   "source": [
    "E verificamos que o formato é 3 x 5 e tem 2 dimensões"
   ]
  },
  {
   "cell_type": "code",
   "execution_count": null,
   "metadata": {},
   "outputs": [],
   "source": [
    "print(arr.shape)\n",
    "\n",
    "print(arr.ndim)"
   ]
  },
  {
   "cell_type": "markdown",
   "metadata": {},
   "source": [
    "Podemos também criar arrays arbitrários usando `np.array()`"
   ]
  },
  {
   "cell_type": "code",
   "execution_count": null,
   "metadata": {},
   "outputs": [],
   "source": [
    "arr2 = np.array([2.4, 3.12, 5, 6])\n",
    "\n",
    "print(arr2)"
   ]
  },
  {
   "cell_type": "markdown",
   "metadata": {},
   "source": [
    "Podemos também criar arrays arbitrários de multiplas dimensões e com tipos variados"
   ]
  },
  {
   "cell_type": "code",
   "execution_count": null,
   "metadata": {},
   "outputs": [],
   "source": [
    "arr3 = np.array([[2.4 + 5.j, 3.12], [5, 6]], dtype=complex)\n",
    "\n",
    "print(arr3)"
   ]
  },
  {
   "cell_type": "markdown",
   "metadata": {},
   "source": [
    "Podemos também criar matrizes vazias ou com uns usando algumas funções especiais"
   ]
  },
  {
   "cell_type": "code",
   "execution_count": null,
   "metadata": {},
   "outputs": [],
   "source": [
    "print(np.zeros((2, 3)))\n",
    "print()\n",
    "print(np.ones((2, 3)))\n",
    "print()\n",
    "print(np.random.random((2,3)))"
   ]
  },
  {
   "cell_type": "markdown",
   "metadata": {},
   "source": [
    "## Operações básicas\n",
    "\n",
    "Podemos fazer algumas operações básicas usando numpy arrays "
   ]
  },
  {
   "cell_type": "code",
   "execution_count": null,
   "metadata": {},
   "outputs": [],
   "source": [
    "# Operações em todos os elementos\n",
    "a = np.array([1, 3, 5, 6])\n",
    "b = np.array(4)\n",
    "\n",
    "print(a - b)\n",
    "print(a + b)\n",
    "print(a * b)"
   ]
  },
  {
   "cell_type": "code",
   "execution_count": null,
   "metadata": {},
   "outputs": [],
   "source": [
    "# Operações entre matrizes\n",
    "c = np.array([[5, 3], [2, 5]])\n",
    "d = np.array([[10, 4], [1, 2]])\n",
    "\n",
    "print(c + d)\n",
    "# Note como essa multiplicação é um produto por elemento, não um\n",
    "# produto interno\n",
    "print(c * d)\n",
    "print()\n",
    "print(\"Para o produto interno, usamos o .dot\")\n",
    "print(c.dot(d))"
   ]
  },
  {
   "cell_type": "markdown",
   "metadata": {},
   "source": [
    "Também podemos executar operações booleanas com arrays"
   ]
  },
  {
   "cell_type": "code",
   "execution_count": null,
   "metadata": {},
   "outputs": [],
   "source": [
    "print(c < 5)"
   ]
  },
  {
   "cell_type": "markdown",
   "metadata": {},
   "source": [
    "## Índices e fatias\n",
    "\n",
    "Numpy nos dá várias ferramentas para fatiar arrays:"
   ]
  },
  {
   "cell_type": "code",
   "execution_count": null,
   "metadata": {},
   "outputs": [],
   "source": [
    "a = np.random.random((5, 4)) * 10\n",
    "\n",
    "print(a)\n",
    "print()\n",
    "\n",
    "# Como fazíamos em listas normais\n",
    "print(a[1:4])"
   ]
  },
  {
   "cell_type": "code",
   "execution_count": null,
   "metadata": {},
   "outputs": [],
   "source": [
    "# Podemos também pegar colunas específicas\n",
    "print(a[1:4, 1])"
   ]
  },
  {
   "cell_type": "markdown",
   "metadata": {},
   "source": [
    "Em datascience vamos usar numpy o tempo todo para controlar nossas matrizes, mas e quando nós quisermos fazer gráficos?\n",
    "\n",
    "Python tem um pacote para isso e ele se chama matplotlib\n",
    "\n",
    "# Matplotlib\n",
    "\n",
    "Matplotlib é enorme. Ele permite fazer qualquer coisa com gráficos. Para nossos exemplos, vamos aprender alguns dos gráficos mais importantes\n",
    "\n",
    "Primeiramente, para importar:"
   ]
  },
  {
   "cell_type": "code",
   "execution_count": null,
   "metadata": {
    "collapsed": true
   },
   "outputs": [],
   "source": [
    "import matplotlib.pyplot as plt"
   ]
  },
  {
   "cell_type": "markdown",
   "metadata": {},
   "source": [
    "Matplotlib é capaz de inferir tipos de gráficos a partir dos dados. Dessa forma, muitas vezes ele consegue, sozinho, descobrir o melhor tipo de gráfico para os seus dados.\n",
    "\n",
    "Para fazer um gráfico, seguimos 2 passos:"
   ]
  },
  {
   "cell_type": "code",
   "execution_count": null,
   "metadata": {},
   "outputs": [],
   "source": [
    "# Criamos uma instância do gráfico\n",
    "plt.plot([1,2,5,4])\n",
    "\n",
    "# Pedimos que matplotlib mostre o gráfico\n",
    "plt.show()"
   ]
  },
  {
   "cell_type": "code",
   "execution_count": null,
   "metadata": {},
   "outputs": [],
   "source": [
    "# Podemos passar matrizes mais complexas para ter gráficos mais interessantes\n",
    "# Podemos também definir o tipo de gráfico a mostrar. No caso, scatter\n",
    "plt.scatter([1,2,3,4], [1,4,9,16])\n",
    "plt.show()"
   ]
  },
  {
   "cell_type": "code",
   "execution_count": null,
   "metadata": {},
   "outputs": [],
   "source": [
    "# Podemos mostrar gráficos de barras também\n",
    "plt.bar([1,2,3,4], [1,4,9,16])\n",
    "plt.show()"
   ]
  },
  {
   "cell_type": "code",
   "execution_count": null,
   "metadata": {},
   "outputs": [],
   "source": [
    "# E juntar vários gráficos juntos\n",
    "plt.plot([1,2,3,4], [1,4,9,16])\n",
    "plt.bar([4,5,4,10], [3,4,2,16])\n",
    "plt.show()"
   ]
  },
  {
   "cell_type": "code",
   "execution_count": null,
   "metadata": {},
   "outputs": [],
   "source": [
    "# E até exemplos mais complexos\n",
    "def f(t):\n",
    "    # Função que calcula o amortecimento de uma curva\n",
    "    return np.exp(-t) * np.cos(2*np.pi*t)\n",
    "\n",
    "# Criamos dois arrays para representarem nossos dados\n",
    "t1 = np.arange(0.0, 5.0, 0.1)\n",
    "t2 = np.arange(0.0, 5.0, 0.02)\n",
    "\n",
    "# Criamos um sub-gráfico para separar em duas visões, definindo as dimensões\n",
    "plt.subplot(211)\n",
    "# Plotamos o gráfico passando os dados e as funções de amortecimento\n",
    "plt.plot(t1, f(t1), 'bo', t2, f(t2), 'k')\n",
    "\n",
    "# Esse segundo gráfico vai mostrar uma função não amortecida, para os mesmos dados\n",
    "plt.subplot(212)\n",
    "# plotamos o gráfico, usando cos 2*v como período\n",
    "plt.plot(t2, np.cos(2*np.pi*t2), 'r--')\n",
    "\n",
    "# Finalmente mostramos ambos os gráficos\n",
    "plt.show()"
   ]
  },
  {
   "cell_type": "markdown",
   "metadata": {},
   "source": [
    "Por enquanto é só em matplotlib. Essa é uma biblioteca enorme e cheia de detalhes. A melhor forma de aprender é tentar fazer coisas nela, ler a documentação e experimentar.\n",
    "\n",
    "# Pandas\n",
    "\n",
    "Vamos agora para a biblioteca que talvez seja a mais útil das 3. Pandas permite a manipulação e visualização de estruturas de dados mais complexas, chamadas DataFrames.\n",
    "\n",
    "Vamos começar importando pandas"
   ]
  },
  {
   "cell_type": "code",
   "execution_count": null,
   "metadata": {},
   "outputs": [],
   "source": [
    "import pandas as pd"
   ]
  },
  {
   "cell_type": "markdown",
   "metadata": {},
   "source": [
    "Agora nós podemos criar um dataframe usando um arquivo CSV\n",
    "\n",
    "Vamos usar um arquivo que contém a média dos salários de todos os funcionários da Unicamp no ano de 2016"
   ]
  },
  {
   "cell_type": "code",
   "execution_count": null,
   "metadata": {},
   "outputs": [],
   "source": [
    "df = pd.read_csv(\"../static/data/salários.csv\").iloc[:, 2:]\n",
    "\n",
    "df"
   ]
  },
  {
   "cell_type": "markdown",
   "metadata": {},
   "source": [
    "Como podemos ver, pandas é muito útil para mostrar tabelas de dados como essa.\n",
    "\n",
    "Podemos fazer algumas coisas legais com ele.\n",
    "\n",
    "Por exemplo, podemos pedir para ele descrever os dados e nos ajudar a entender melhor o que está dentro dessa tabela"
   ]
  },
  {
   "cell_type": "code",
   "execution_count": null,
   "metadata": {},
   "outputs": [],
   "source": [
    "df.describe()"
   ]
  },
  {
   "cell_type": "markdown",
   "metadata": {},
   "source": [
    "Podemos também selecionar uma coluna específica"
   ]
  },
  {
   "cell_type": "code",
   "execution_count": null,
   "metadata": {},
   "outputs": [],
   "source": [
    "df['Nome']"
   ]
  },
  {
   "cell_type": "markdown",
   "metadata": {},
   "source": [
    "Selecionar duas colunas"
   ]
  },
  {
   "cell_type": "code",
   "execution_count": null,
   "metadata": {},
   "outputs": [],
   "source": [
    "df[[\"Nome\", \"Remuneração Líquida\"]]"
   ]
  },
  {
   "cell_type": "markdown",
   "metadata": {},
   "source": [
    "Selecionar apenas as pessoas cujos salários são maiores que 20 mil"
   ]
  },
  {
   "cell_type": "code",
   "execution_count": null,
   "metadata": {},
   "outputs": [],
   "source": [
    "df[df[\"Remuneração Líquida\"] > 20000]"
   ]
  },
  {
   "cell_type": "markdown",
   "metadata": {},
   "source": [
    "E, claro, organizar as pessoas por salário pra saber quem ganha mais"
   ]
  },
  {
   "cell_type": "code",
   "execution_count": null,
   "metadata": {},
   "outputs": [],
   "source": [
    "df.sort_values('Remuneração Líquida', ascending=False).head(10)"
   ]
  },
  {
   "cell_type": "markdown",
   "metadata": {},
   "source": [
    "Podemos também criar um gráfico dos valores"
   ]
  },
  {
   "cell_type": "code",
   "execution_count": null,
   "metadata": {},
   "outputs": [],
   "source": [
    "df[['Remuneração Bruta', 'Remuneração Líquida']].plot(figsize=(10,10))\n",
    "plt.show()"
   ]
  },
  {
   "cell_type": "markdown",
   "metadata": {},
   "source": [
    "E, por fim, podemos aplicar operações lineares nas colunas e criar colunas novas"
   ]
  },
  {
   "cell_type": "code",
   "execution_count": null,
   "metadata": {},
   "outputs": [],
   "source": [
    "df['Quadrado do salário'] = df['Remuneração Líquida'] ** 2\n",
    "\n",
    "df.head(10)"
   ]
  },
  {
   "cell_type": "code",
   "execution_count": null,
   "metadata": {
    "collapsed": true
   },
   "outputs": [],
   "source": []
  }
 ],
 "metadata": {
  "kernelspec": {
   "display_name": "Python [conda root]",
   "language": "python",
   "name": "conda-root-py"
  },
  "language_info": {
   "codemirror_mode": {
    "name": "ipython",
    "version": 3
   },
   "file_extension": ".py",
   "mimetype": "text/x-python",
   "name": "python",
   "nbconvert_exporter": "python",
   "pygments_lexer": "ipython3",
   "version": "3.5.3"
  }
 },
 "nbformat": 4,
 "nbformat_minor": 2
}
