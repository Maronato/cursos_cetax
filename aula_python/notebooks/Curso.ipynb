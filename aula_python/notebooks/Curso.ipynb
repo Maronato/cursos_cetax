{
 "cells": [
  {
   "cell_type": "markdown",
   "metadata": {
    "collapsed": true
   },
   "source": [
    "# Setup\n",
    "\n",
    "Esse curso está disponível para download no [GitHub](https://github.com/Maronato/cursos_cetax).\n",
    "\n",
    "![image](../static/images/repo.png)\n",
    "\n",
    "# Introdução\n",
    "\n",
    "Python é uma linguagem general purpose, open source, modular, interpretada, de tipagem dinâmica/forte e multiparadigma. Essas qualidades tornam Python uma linguagem fantástica para criar scripts e desenvolver rapidamente aplicações em diversas áreas e plataformas.\n",
    "\n",
    "Python é uma das principais linguagens usadas para o desenvolvimento e aplicação de soluções que envolvem data science e pode ser usada para construir desde o núcleo dos algoritmos até as visualizações e plataformas finais de aplicativos.\n",
    "\n",
    "Python também é muito usada na academia por sua flexibilidade e facilidade, além de possuir suporte para incorporar bibliotecas de C, permitindo explorar a velocidade de uma linguagem baixo nível com as conveniências de uma sintaxe alto nível.\n",
    "\n",
    "Python atualmente está disponível em duas versões: 2 e 3. Como o suporte para versão 2 está diminuindo, iremos focar na versão mais atual, a 3.\n",
    "\n",
    "# Executando código\n",
    "\n",
    "Python, por ser interpretada, conta com um **shell** que te permite executar código em tempo real. Esse notebook usa uma versão desse shell chamado **IPython**, de Python Interativo. Essa versão permite algumas coisas interessantes como visualizações de gráficos e outras coisas que veremos ao longo do curso.\n",
    "\n",
    "Para iniciar o shell em seu terminal, basta executar `python`. Você verá algo como isso:\n",
    "![image](../static/images/shell.png)\n",
    "\n",
    "Que indica a versão instalada (python 3.5.3), nos informa que estamos usando o interpretador do Anaconda e que nossa versão de Python é a cPython(usando GCC).\n",
    "\n",
    "Também vemos `>>>` indicando que podemos digitar algo. Tudo que você digitar aí será executado como código python.\n",
    "\n",
    "Vamos deixar o shell de lado por enquanto e focar nesse notebook. Da mesma forma que no shell, você também pode executar código python aqui. Basta procurar por uma linha como a que está abaixo e digitar o que querem executar. Para criar uma linha nova, clique no `+` que está no toolbox do notebook, logo acima.\n",
    "\n",
    "Para executar o código que você digitou, aperte `shift+enter`:"
   ]
  },
  {
   "cell_type": "code",
   "execution_count": 3,
   "metadata": {},
   "outputs": [
    {
     "data": {
      "text/plain": [
       "8"
      ]
     },
     "execution_count": 3,
     "metadata": {},
     "output_type": "execute_result"
    }
   ],
   "source": [
    "3 + 5"
   ]
  },
  {
   "cell_type": "markdown",
   "metadata": {},
   "source": [
    "O shell e notebooks não são muito uteis além do estágio de desenvolvimento. Para produzir código utilizável em produção, nós criamos `scripts` de Python, que nada mais são que arquivos de texto com a extenção `.py` que são executados pelo interpretador da mesma forma que seu código aqui ou no shell seria.\n",
    "\n",
    "Na pasta dessa aula você encontrará uma pasta chamada `/arquivos` com alguns exemplos de scripts. Para executar esses scripts, navegue até a pasta do script em seu terminal e execute\n",
    "```\n",
    "python <script>.py\n",
    "```\n",
    "Substituindo `<script>` pelo nome do script que você quer executar.\n",
    "\n",
    "Agora que já sabemos executar comandos, vamos aprender Python.\n",
    "\n",
    "# Variáveis\n",
    "\n",
    "Python, como comentado antes, é uma linguagem de tipagem dinâmica, ou seja, não é necessário declarar o tipo da variável antes de usá-la.\n",
    "\n",
    "Para declarar uma variável, basta dizer o nome da varíavel que você quer criar ou alterar, seguida de um `=` e o valor desejado."
   ]
  },
  {
   "cell_type": "code",
   "execution_count": 4,
   "metadata": {
    "collapsed": true
   },
   "outputs": [],
   "source": [
    "foo = 42\n",
    "bar = \"sou um texto\""
   ]
  },
  {
   "cell_type": "markdown",
   "metadata": {
    "collapsed": true
   },
   "source": [
    "Para acessar o valor da variável basta chamá-la pelo nome."
   ]
  },
  {
   "cell_type": "code",
   "execution_count": 5,
   "metadata": {},
   "outputs": [
    {
     "data": {
      "text/plain": [
       "42"
      ]
     },
     "execution_count": 5,
     "metadata": {},
     "output_type": "execute_result"
    }
   ],
   "source": [
    "foo"
   ]
  },
  {
   "cell_type": "code",
   "execution_count": 6,
   "metadata": {},
   "outputs": [
    {
     "data": {
      "text/plain": [
       "'sou um texto'"
      ]
     },
     "execution_count": 6,
     "metadata": {},
     "output_type": "execute_result"
    }
   ],
   "source": [
    "bar"
   ]
  },
  {
   "cell_type": "markdown",
   "metadata": {},
   "source": [
    "Uma melhor forma de visualizar os valores de variáveis é usando a função `print()`:"
   ]
  },
  {
   "cell_type": "code",
   "execution_count": 7,
   "metadata": {},
   "outputs": [
    {
     "name": "stdout",
     "output_type": "stream",
     "text": [
      "42\n",
      "sou um texto\n"
     ]
    }
   ],
   "source": [
    "print(foo)\n",
    "print(bar)"
   ]
  },
  {
   "cell_type": "markdown",
   "metadata": {},
   "source": [
    "Podemos alterar os valores anteriores dessas variáveis e realizar operações com elas:"
   ]
  },
  {
   "cell_type": "code",
   "execution_count": 15,
   "metadata": {},
   "outputs": [
    {
     "name": "stdout",
     "output_type": "stream",
     "text": [
      "42.505\n"
     ]
    }
   ],
   "source": [
    "foo = 35\n",
    "bar = 7.505\n",
    "print(foo + bar)"
   ]
  },
  {
   "cell_type": "markdown",
   "metadata": {},
   "source": [
    "Apesar de não termos que declarar, as variáveis em python continuam possuindo tipos.\n",
    "\n",
    "Podemos verificar esses tipos usando a função `type()`"
   ]
  },
  {
   "cell_type": "code",
   "execution_count": 16,
   "metadata": {},
   "outputs": [
    {
     "name": "stdout",
     "output_type": "stream",
     "text": [
      "<class 'int'>\n",
      "<class 'float'>\n",
      "<class 'str'>\n"
     ]
    }
   ],
   "source": [
    "print(type(foo))\n",
    "print(type(bar))\n",
    "print(type(\"Um texto\"))"
   ]
  },
  {
   "cell_type": "markdown",
   "metadata": {},
   "source": [
    "Podemos ver que `foo` é um **objeto** de classe **int** (número inteiro) e que `bar` é um objeto de classe **float** (ponto flutuante).\n",
    "\n",
    "Além disso, podemos ver que o texto \"Um texto\" é um objeto de classe **str** (uma *string* - texto)\n",
    "\n",
    "Como veremos no futuro, tudo em python são **objetos**, mas isso raramente vai entrar em nosso caminho durante a programação.\n",
    "\n",
    "Outros tipos de variáveis importantes são os **booleanos**, que representam **verdadeiro** e **falso**.\n",
    "\n",
    "Existem apenas dois valores para um booleano: `True` e `False`. Notem que a primeira letra maiúscula **é essencial**."
   ]
  },
  {
   "cell_type": "code",
   "execution_count": 17,
   "metadata": {},
   "outputs": [
    {
     "name": "stdout",
     "output_type": "stream",
     "text": [
      "<class 'bool'>\n"
     ]
    }
   ],
   "source": [
    "baz = True\n",
    "print(type(baz))"
   ]
  },
  {
   "cell_type": "markdown",
   "metadata": {},
   "source": [
    "Além dessas variáveis, Python também tem suporte para outras estruturas de dados. Talvez a mais simples seja Lista\n",
    "\n",
    "## Listas\n",
    "\n",
    "Lista em Python são bem poderosas e fáceis de usar. Para criar uma lista, use `[` e `]` para abrir e fechar, separando elementos por vígulas:"
   ]
  },
  {
   "cell_type": "code",
   "execution_count": 18,
   "metadata": {
    "collapsed": true
   },
   "outputs": [],
   "source": [
    "qux = [1, 2, 3, 10]"
   ]
  },
  {
   "cell_type": "markdown",
   "metadata": {},
   "source": [
    "Novamente, verificamos que o tipo é `list`"
   ]
  },
  {
   "cell_type": "code",
   "execution_count": 19,
   "metadata": {},
   "outputs": [
    {
     "name": "stdout",
     "output_type": "stream",
     "text": [
      "<class 'list'>\n"
     ]
    }
   ],
   "source": [
    "print(type(qux))"
   ]
  },
  {
   "cell_type": "markdown",
   "metadata": {},
   "source": [
    "Listas em Python não são limitadas pelo tipo de objeto dentro dela. Podemos colocar qualquer coisa dentro de uma lista."
   ]
  },
  {
   "cell_type": "code",
   "execution_count": 22,
   "metadata": {
    "collapsed": true
   },
   "outputs": [],
   "source": [
    "qux = [foo, bar, baz, 56, False, 123]\n",
    "foo = 45"
   ]
  },
  {
   "cell_type": "markdown",
   "metadata": {},
   "source": [
    "Podemos imprimir a lista usando `print()`"
   ]
  },
  {
   "cell_type": "code",
   "execution_count": 23,
   "metadata": {},
   "outputs": [
    {
     "name": "stdout",
     "output_type": "stream",
     "text": [
      "[35, 7.505, True, 56, False, 123]\n"
     ]
    }
   ],
   "source": [
    "print(qux)"
   ]
  },
  {
   "cell_type": "markdown",
   "metadata": {},
   "source": [
    "e podemos adicionar listas dentro de listas para formar matrizes"
   ]
  },
  {
   "cell_type": "code",
   "execution_count": 24,
   "metadata": {},
   "outputs": [
    {
     "name": "stdout",
     "output_type": "stream",
     "text": [
      "[[1, 2, 5], [10, [False, 21], 30], True]\n"
     ]
    }
   ],
   "source": [
    "quux = [[1, 2, 5], [10, [False, 21], 30], baz]\n",
    "\n",
    "print(quux)"
   ]
  },
  {
   "cell_type": "markdown",
   "metadata": {},
   "source": [
    "Podemos reescrever a lista acima de outra forma para ser mais fácil de ler:"
   ]
  },
  {
   "cell_type": "code",
   "execution_count": 25,
   "metadata": {},
   "outputs": [
    {
     "name": "stdout",
     "output_type": "stream",
     "text": [
      "[[1, 2, 5], [10, [False, 21], 30], True]\n"
     ]
    }
   ],
   "source": [
    "quux = [\n",
    "    [1, 2, 5],\n",
    "    [10, [False, 21], 30], \n",
    "    baz\n",
    "]\n",
    "\n",
    "print(quux)"
   ]
  },
  {
   "cell_type": "markdown",
   "metadata": {},
   "source": [
    "Com a lista criada, nós também queremos poder acessar elementos dessa lista. Para fazer isso, usamos `[idx]`:\n",
    "\n",
    "Por exemplo, abaixo nós selecionamos o segundo elemento da lista `quux`. Esse elemento é uma lista. Podemos então selecionar elementos do segundo elemento.\n",
    "\n",
    "Selecionamos então o segundo elemento do segundo elemento e em seguida o segundo elemento deste!\n",
    "\n",
    "Devemos lembrar que, em Python, **o primeiro elemento tem índice zero**"
   ]
  },
  {
   "cell_type": "code",
   "execution_count": 26,
   "metadata": {},
   "outputs": [
    {
     "name": "stdout",
     "output_type": "stream",
     "text": [
      "[10, [False, 21], 30]\n",
      "[False, 21]\n",
      "21\n"
     ]
    }
   ],
   "source": [
    "# Segundo elemento da lista (índice 1)\n",
    "print(quux[1])\n",
    "\n",
    "# Segundo elemento do segundo elemento\n",
    "print(quux[1][1])\n",
    "\n",
    "# Segundo elemento do segundo elemento do segundo elemento\n",
    "print(quux[1][1][1])"
   ]
  },
  {
   "cell_type": "markdown",
   "metadata": {},
   "source": [
    "Podemos também usar indices negativos para percorrer a lista no sentido contrário. Dessa forma, podemos pegar o **último** elemento da lista usando o índice **-1** e o penúltimo usando **-2**, etc:"
   ]
  },
  {
   "cell_type": "code",
   "execution_count": 27,
   "metadata": {},
   "outputs": [
    {
     "name": "stdout",
     "output_type": "stream",
     "text": [
      "10\n",
      "9\n"
     ]
    }
   ],
   "source": [
    "# Criamos uma lista maior\n",
    "quuz = [0, 1, 2, 3, 4, 5, 6, 7, 8, 9, 10]\n",
    "\n",
    "# último e penúltimo elementos\n",
    "print(quuz[-1])\n",
    "print(quuz[-2])"
   ]
  },
  {
   "cell_type": "markdown",
   "metadata": {},
   "source": [
    "Além de selecionar elementos, podemos também selecionar fatias da lista usando a notação `[início:fim:salto]`.\n",
    "\n",
    "Onde início indica o início da fatia, fim o final e salto o salto representa a forma como percorreremos a lista.\n",
    "\n",
    "Observe que o índice do *início* é **inclusivo** e o do *final* **exclusivo**"
   ]
  },
  {
   "cell_type": "code",
   "execution_count": 28,
   "metadata": {},
   "outputs": [
    {
     "name": "stdout",
     "output_type": "stream",
     "text": [
      "Do terceiro ao oitavo (não incluído pois é exclusivo)\n",
      "[2, 3, 4, 5, 6]\n",
      "\n",
      "Todos os elementos da lista\n",
      "[0, 1, 2, 3, 4, 5, 6, 7, 8, 9, 10]\n",
      "\n",
      "Do terceiro ao final\n",
      "[2, 3, 4, 5, 6, 7, 8, 9, 10]\n",
      "\n",
      "Até o oitavo\n",
      "[0, 1, 2, 3, 4, 5, 6]\n",
      "\n",
      "Do terceiro ao oitavo, de dois em dois\n",
      "[2, 4, 6]\n",
      "\n",
      "Lista ao contrário (salto -1)\n",
      "[10, 9, 8, 7, 6, 5, 4, 3, 2, 1, 0]\n"
     ]
    }
   ],
   "source": [
    "print(\"Do terceiro ao oitavo (não incluído pois é exclusivo)\")\n",
    "print(quuz[2:7])\n",
    "\n",
    "print(\"\\nTodos os elementos da lista\")\n",
    "print(quuz[:])\n",
    "\n",
    "print(\"\\nDo terceiro ao final\")\n",
    "print(quuz[2:])\n",
    "\n",
    "print(\"\\nAté o oitavo\")\n",
    "print(quuz[:7])\n",
    "\n",
    "print(\"\\nDo terceiro ao oitavo, de dois em dois\")\n",
    "print(quuz[2:7:2])\n",
    "\n",
    "print(\"\\nLista ao contrário (salto -1)\")\n",
    "print(quuz[::-1])"
   ]
  },
  {
   "cell_type": "markdown",
   "metadata": {},
   "source": [
    "### Modificando listas\n",
    "Agora que já sabemos criar e fatiar listas, vamos aprender a modificar elas.\n",
    "\n",
    "Com modificação, temos 3 principais ações de interesse:\n",
    "- Editar elementos\n",
    "- Adicionar elementos\n",
    "- Remover elementos\n",
    "\n",
    "Para modificar, fazemos como faríamos com uma variável. Selecionamos o elemento pelo índice e alteramos seu valor:"
   ]
  },
  {
   "cell_type": "code",
   "execution_count": 29,
   "metadata": {},
   "outputs": [
    {
     "name": "stdout",
     "output_type": "stream",
     "text": [
      "[0, 1, 2, 'sou um texto', 4, 5, 6, 7, 8, 9, 10]\n"
     ]
    }
   ],
   "source": [
    "# Alterando o quarto elemento para \"sou um texto\"\n",
    "quuz[3] = \"sou um texto\"\n",
    "\n",
    "print(quuz)"
   ]
  },
  {
   "cell_type": "markdown",
   "metadata": {},
   "source": [
    "Podemos adicionar elementos ao final da lista usando o **método** `append()`.\n",
    "\n",
    "Veremos que existem centenas de métodos prontos em Python que serão úteis para realizar operações como essas.\n",
    "\n",
    "Para usar o append, digite o nome da lista seguido de um `.append(<elemento novo>)`:"
   ]
  },
  {
   "cell_type": "code",
   "execution_count": 30,
   "metadata": {
    "scrolled": true
   },
   "outputs": [
    {
     "name": "stdout",
     "output_type": "stream",
     "text": [
      "[0, 1, 2, 'sou um texto', 4, 5, 6, 7, 8, 9, 10, 'sou outro texto']\n"
     ]
    }
   ],
   "source": [
    "# Adicionando \"sou outro texto\" ao fim da lista\n",
    "quuz.append(\"sou outro texto\")\n",
    "\n",
    "print(quuz)"
   ]
  },
  {
   "cell_type": "markdown",
   "metadata": {},
   "source": [
    "Por fim, podemos remover um elemento de uma lista usando o método `pop()`"
   ]
  },
  {
   "cell_type": "code",
   "execution_count": 43,
   "metadata": {},
   "outputs": [
    {
     "name": "stdout",
     "output_type": "stream",
     "text": [
      "c\n",
      "o\n",
      "m\n",
      "o\n",
      " \n",
      "v\n",
      "a\n",
      "i\n"
     ]
    }
   ],
   "source": [
    "for x in enumerate(\"como vai\"):\n",
    "    print(x[1])"
   ]
  },
  {
   "cell_type": "markdown",
   "metadata": {},
   "source": [
    "Tem muito mais coisas que você pode fazer com uma lista. Para detalhes, olhe a [documentação](https://docs.python.org/3/tutorial/datastructures.html#more-on-lists).\n",
    "\n",
    "Outra estrutura extermamente importante são dicionários.\n",
    "\n",
    "# Dicionários\n",
    "Dicionários são nada menos que hash tables. Cada entrada no dicionário é representado por uma `key` e um `value`. Para acessar valores usamos essas `keys` ao invés dos índices como fazíamos com listas.\n",
    "\n",
    "Dicionários, por serem hash tables, não são ordenados.\n",
    "\n",
    "Para criar um dicionário, use a sintaxe abaixo:"
   ]
  },
  {
   "cell_type": "code",
   "execution_count": 44,
   "metadata": {},
   "outputs": [
    {
     "name": "stdout",
     "output_type": "stream",
     "text": [
      "sou um valor\n",
      "10\n"
     ]
    }
   ],
   "source": [
    "dicio = {\"chave 1\": 10, \"chave 2\": \"sou um valor\", \"chave 3\": [1, 3, 10]}\n",
    "\n",
    "# Acessamos os valores pelas chaves\n",
    "print(dicio[\"chave 2\"])\n",
    "print(dicio[\"chave 3\"][2])"
   ]
  },
  {
   "cell_type": "code",
   "execution_count": 49,
   "metadata": {},
   "outputs": [
    {
     "name": "stdout",
     "output_type": "stream",
     "text": [
      "{'outra chave novamente': 'valor', 'chave 2': 'sou um valor', 'outra chave': 41, 'chave 1': 10, 'chave 3': [1, 3, 10]}\n"
     ]
    }
   ],
   "source": [
    "dicio[\"outra chave novamente\"] = \"valor\"\n",
    "\n",
    "\n",
    "\n",
    "print(dicio)"
   ]
  },
  {
   "cell_type": "code",
   "execution_count": 52,
   "metadata": {},
   "outputs": [
    {
     "name": "stdout",
     "output_type": "stream",
     "text": [
      "{'outra chave novamente': 'valor', 'outra chave': 41, 'chave 1': 10, 'chave 3': [1, 3, 10]}\n"
     ]
    }
   ],
   "source": [
    "print(dicio)"
   ]
  },
  {
   "cell_type": "markdown",
   "metadata": {},
   "source": [
    "Agora vamos sair um pouco de dicionários e passar por cima dos métodos de Python para operações booleanas.\n",
    "\n",
    "# Lógica booleana\n",
    "\n",
    "Operações lógicas são o coração das linguagens de programação. Em Python temos diversas formas de testar estruturas e conjuntos.\n",
    "\n",
    "## Comparações de pares\n",
    "As operações entre pares são:\n",
    "\n",
    "`<, <=, >, >=, ==, !=`\n",
    "\n",
    "Python avalia cada operação e um bool é atribuido para cada uma."
   ]
  },
  {
   "cell_type": "code",
   "execution_count": 53,
   "metadata": {},
   "outputs": [
    {
     "name": "stdout",
     "output_type": "stream",
     "text": [
      "True\n",
      "False\n",
      "True\n",
      "True\n"
     ]
    }
   ],
   "source": [
    "print(1 < 2)\n",
    "print(2 < 1)\n",
    "\n",
    "buq = 10\n",
    "print(10 == buq)\n",
    "\n",
    "# Também podemos adicionar várias condições em cadeia\n",
    "print(1 < 2 < 10 == buq)"
   ]
  },
  {
   "cell_type": "markdown",
   "metadata": {},
   "source": [
    "## Comparações de conjuntos\n",
    "\n",
    "Python também permite checar pertencimento em conjuntos\n",
    "\n",
    "Para isso, usamos o operador `in`"
   ]
  },
  {
   "cell_type": "code",
   "execution_count": 62,
   "metadata": {},
   "outputs": [
    {
     "name": "stdout",
     "output_type": "stream",
     "text": [
      "True\n",
      "True\n",
      "False\n",
      "True\n"
     ]
    }
   ],
   "source": [
    "print(3 in [1, 2, 3, 4] and 4 in [1, 2, 3, 4])\n",
    "\n",
    "print([4,5] in [1, 2, 3, 4, 5, [4, 5]])\n",
    "\n",
    "# Também serve com strings e outras estruturas\n",
    "print(\"bom\" in \"esse é um mau exemplo\")\n",
    "\n",
    "print(\"bom\" in \"esse é um bom exemplo\")"
   ]
  },
  {
   "cell_type": "markdown",
   "metadata": {},
   "source": [
    "## Operadores de lógica\n",
    "\n",
    "Podemos realizar operações de lógica com `or`, `and` e `not`"
   ]
  },
  {
   "cell_type": "code",
   "execution_count": 63,
   "metadata": {},
   "outputs": [
    {
     "name": "stdout",
     "output_type": "stream",
     "text": [
      "False\n",
      "True\n",
      "True\n"
     ]
    }
   ],
   "source": [
    "print(True and False)\n",
    "\n",
    "print(True or False)\n",
    "\n",
    "print(not (True and False))"
   ]
  },
  {
   "cell_type": "markdown",
   "metadata": {},
   "source": [
    "## Operadores de identidade\n",
    "\n",
    "Python também permite outras operações mais alto nível"
   ]
  },
  {
   "cell_type": "code",
   "execution_count": 64,
   "metadata": {},
   "outputs": [
    {
     "name": "stdout",
     "output_type": "stream",
     "text": [
      "False\n",
      "True\n",
      "True\n"
     ]
    }
   ],
   "source": [
    "buuq = 19998989890\n",
    "baaq = 19998989889 + 1\n",
    "print(buuq is baaq)\n",
    "\n",
    "# Mesmo que\n",
    "print(buuq == baaq)\n",
    "\n",
    "# Podemos também verificar tipos\n",
    "print(isinstance(5, int))"
   ]
  },
  {
   "cell_type": "markdown",
   "metadata": {},
   "source": [
    "## If - else\n",
    "\n",
    "Em python podemos usar `if`, `else` e `elif`(else if) como em outras linguagens.\n",
    "\n",
    "É importante notar que python **separa escopos por indentação**. Usaremos 4 espaços(1 tab) para nossas identações."
   ]
  },
  {
   "cell_type": "code",
   "execution_count": 77,
   "metadata": {},
   "outputs": [
    {
     "name": "stdout",
     "output_type": "stream",
     "text": [
      "0 < 10\n"
     ]
    },
    {
     "data": {
      "text/plain": [
       "'False'"
      ]
     },
     "execution_count": 77,
     "metadata": {},
     "output_type": "execute_result"
    }
   ],
   "source": [
    "a = 0\n",
    "b = 10\n",
    "if a < b:\n",
    "    print(str(a) + \" < \" + str(b))\n",
    "elif a > b:\n",
    "    print(str(a) + \" > \" + str(b))\n",
    "else:\n",
    "    print(str(a) + \" == \" + str(b))\n",
    "    \n",
    "str(bool(float(int(str(a)))))"
   ]
  },
  {
   "cell_type": "markdown",
   "metadata": {},
   "source": [
    "# Loops\n",
    "\n",
    "Python permite dois tipos de loop: `for` e `while`\n",
    "\n",
    "## For loop\n",
    "\n",
    "Em python, o `for loop` usa iteradores para caminhar pelas iterações:"
   ]
  },
  {
   "cell_type": "code",
   "execution_count": 87,
   "metadata": {},
   "outputs": [
    {
     "name": "stdout",
     "output_type": "stream",
     "text": [
      "(0, 1)\n",
      "(1, 3)\n",
      "(2, 10)\n",
      "(3, 100)\n"
     ]
    }
   ],
   "source": [
    "for i in enumerate([1, 3, 10, 100]):\n",
    "    print(i)"
   ]
  },
  {
   "cell_type": "code",
   "execution_count": 95,
   "metadata": {},
   "outputs": [
    {
     "name": "stdout",
     "output_type": "stream",
     "text": [
      "1\n",
      "3\n",
      "5\n",
      "7\n",
      "9\n"
     ]
    }
   ],
   "source": [
    "# Para iterar n vezes usamos o gerador range()\n",
    "\n",
    "for valor in range(1, 10, 2):\n",
    "    print(valor)"
   ]
  },
  {
   "cell_type": "code",
   "execution_count": 100,
   "metadata": {},
   "outputs": [
    {
     "name": "stdout",
     "output_type": "stream",
     "text": [
      "S\n",
      "o\n",
      "u\n",
      " \n",
      "u\n",
      "m\n",
      " \n",
      "t\n",
      "e\n",
      "x\n",
      "t\n",
      "o\n",
      "{'outra chave novamente': 'valor', 'outra chave': 41, 'chave 1': 10, 'chave 3': [1, 3, 10]}\n"
     ]
    }
   ],
   "source": [
    "# Podemos também iterar por textos e outras coleções de dados:\n",
    "for letra in \"Sou um texto\":\n",
    "    print(letra)\n",
    "\n",
    "print(dicio)"
   ]
  },
  {
   "cell_type": "code",
   "execution_count": 109,
   "metadata": {},
   "outputs": [
    {
     "name": "stdout",
     "output_type": "stream",
     "text": [
      "chave: outra chave novamente, valor: valor\n",
      "chave: outra chave, valor: 41\n",
      "chave: chave 1, valor: 10\n",
      "chave: chave 3, valor: [1, 3, 10]\n"
     ]
    }
   ],
   "source": [
    "# Loops também podem descompactar mais de um item por vez\n",
    "# Aqui usamos o método .items() dos dicionários para pegar sua key e valor de uma vez\n",
    "for key, value in dicio.items():\n",
    "    print(\"chave: {}, valor: {}\".format(key, value))"
   ]
  },
  {
   "cell_type": "code",
   "execution_count": 110,
   "metadata": {},
   "outputs": [
    {
     "data": {
      "text/plain": [
       "'eu, gustavo declaro [1, 2]'"
      ]
     },
     "execution_count": 110,
     "metadata": {},
     "output_type": "execute_result"
    }
   ],
   "source": [
    "\"eu, {} declaro {}\".format(\"gustavo\", [1, 2])"
   ]
  },
  {
   "cell_type": "markdown",
   "metadata": {},
   "source": [
    "## While loop\n",
    "\n",
    "Outro loop interessante é o while. Ele repete enquanto a condição for verdadeira"
   ]
  },
  {
   "cell_type": "code",
   "execution_count": 112,
   "metadata": {},
   "outputs": [
    {
     "name": "stdout",
     "output_type": "stream",
     "text": [
      "0\n",
      "1\n",
      "2\n",
      "3\n",
      "4\n",
      "5\n"
     ]
    }
   ],
   "source": [
    "num = 0\n",
    "while num <= 5:\n",
    "    print(num)\n",
    "    num += 1"
   ]
  },
  {
   "cell_type": "markdown",
   "metadata": {},
   "source": [
    "# Funções\n",
    "\n",
    "Funções em Python são muito versáteis. Podemos passar argumentos sequenciais ou como dicionários. Podemos retornar e passar qualquer tipo de estrutura sem precisar definir antes"
   ]
  },
  {
   "cell_type": "code",
   "execution_count": 125,
   "metadata": {},
   "outputs": [
    {
     "name": "stdout",
     "output_type": "stream",
     "text": [
      "<class 'function'>\n"
     ]
    }
   ],
   "source": [
    "# Essa é uma funcao chamada funcao que não recebe argumentos\n",
    "def funcao():\n",
    "    \"\"\"isso é a documentação da função\"\"\"\n",
    "    return 1 + 10\n",
    "\n",
    "# Para chamar a função, chame seu nome seguido de ()\n",
    "print(funcao.__class__)"
   ]
  },
  {
   "cell_type": "code",
   "execution_count": 128,
   "metadata": {},
   "outputs": [
    {
     "name": "stdout",
     "output_type": "stream",
     "text": [
      "4065611775352152373972797075670416710103878906323797634290517698787563831961701377171181093217455781996250152587890625\n"
     ]
    }
   ],
   "source": [
    "# Já essa função recebe alguns argumentos\n",
    "def funcao2(a, b):\n",
    "    return a ** b\n",
    "\n",
    "print(funcao2(15, 100))"
   ]
  },
  {
   "cell_type": "code",
   "execution_count": 129,
   "metadata": {},
   "outputs": [
    {
     "name": "stdout",
     "output_type": "stream",
     "text": [
      "1000\n"
     ]
    }
   ],
   "source": [
    "# Podemos também usar argumentos nomeados que podem ser passados em qualquer ordem\n",
    "print(funcao2(b=3, a=10))"
   ]
  },
  {
   "cell_type": "code",
   "execution_count": 136,
   "metadata": {},
   "outputs": [
    {
     "name": "stdout",
     "output_type": "stream",
     "text": [
      "oláum separadorcomo vai\n"
     ]
    }
   ],
   "source": [
    "# E podemos também definir valores-padrão para os argumentos\n",
    "def funcao3(a=10, b=2):\n",
    "    # podemos chamar funções dentro de funções\n",
    "    return funcao2(a, b)\n",
    "\n",
    "# Nesse tipo de função, passarei apenas o b, deixando o a usar o valor padrão de 10\n",
    "print(\"olá\", \"como vai\", sep=\"um separador\")"
   ]
  },
  {
   "cell_type": "markdown",
   "metadata": {},
   "source": [
    "# Pacotes e módulos\n",
    "\n",
    "A grande vantagem de python, que o coloca acima de diversas outras linguagens em praticidade é sua modularidade.\n",
    "\n",
    "Raramente você vai precisar escrever algo complexo por conta própria, pois existem diversos pacotes grátis e disponíveis para qualquer um usar.\n",
    "\n",
    "A biblioteca que instalamos, Anaconda, vem com vários desses pacotes já pré-instalados, mas você sempre pode adicionar mais usando comandos como o [pip](https://pypi.python.org/pypi/pip) que é um package manager que te dá acesso à [PyPi](https://pypi.python.org/pypi?%3Aaction=browse), um repositório com milhares de pacotes disponíveis e prontos para uso.\n",
    "\n",
    "Abaixo nós aprenderemos a usar algumas ferramentas de 3 dos pacotes mais importantes para data science"
   ]
  },
  {
   "cell_type": "markdown",
   "metadata": {
    "collapsed": true
   },
   "source": [
    "# Numpy\n",
    "\n",
    "Numpy é o maior pacote de análises numéricas de Python. É altamente eficiente e consegue fazer coisas bem legais.\n",
    "\n",
    "Seu principal uso é manipulação de arrays e matrizes multidimensionais.\n",
    "\n",
    "Primeiro vamos aprender a importar numpy para usarmos em nossos programas:"
   ]
  },
  {
   "cell_type": "code",
   "execution_count": 137,
   "metadata": {
    "collapsed": true
   },
   "outputs": [],
   "source": [
    "import numpy"
   ]
  },
  {
   "cell_type": "markdown",
   "metadata": {},
   "source": [
    "Pronto, agora podemos usar numpy.\n",
    "\n",
    "É convenção, porém, criar um apelido para numpy e chamá-lo de `np`. Fazemos isso assim:"
   ]
  },
  {
   "cell_type": "code",
   "execution_count": 138,
   "metadata": {
    "collapsed": true
   },
   "outputs": [],
   "source": [
    "import numpy as np"
   ]
  },
  {
   "cell_type": "markdown",
   "metadata": {},
   "source": [
    "Vamos agora explorar algumas funções e métodos do numpy. Primeiro como criar um array de uma dimensão.\n",
    "\n",
    "Podemos usar a função `np.arange()` para criar um `array` em um intervalo."
   ]
  },
  {
   "cell_type": "code",
   "execution_count": 140,
   "metadata": {},
   "outputs": [
    {
     "name": "stdout",
     "output_type": "stream",
     "text": [
      "[ 0  1  2  3  4  5  6  7  8  9 10 11 12 13 14]\n"
     ]
    }
   ],
   "source": [
    "# Criamos um array de 15 items de 0 a 14\n",
    "arr = np.arange(15)\n",
    "print(arr)"
   ]
  },
  {
   "cell_type": "markdown",
   "metadata": {},
   "source": [
    "podemos rearranjar esse array em uma matriz 3 x 5"
   ]
  },
  {
   "cell_type": "code",
   "execution_count": 141,
   "metadata": {},
   "outputs": [
    {
     "name": "stdout",
     "output_type": "stream",
     "text": [
      "[[ 0  1  2  3  4]\n",
      " [ 5  6  7  8  9]\n",
      " [10 11 12 13 14]]\n"
     ]
    }
   ],
   "source": [
    "arr = arr.reshape(3, 5)\n",
    "print(arr)"
   ]
  },
  {
   "cell_type": "markdown",
   "metadata": {},
   "source": [
    "E verificamos que o formato é 3 x 5 e tem 2 dimensões"
   ]
  },
  {
   "cell_type": "code",
   "execution_count": 142,
   "metadata": {},
   "outputs": [
    {
     "name": "stdout",
     "output_type": "stream",
     "text": [
      "(3, 5)\n",
      "2\n"
     ]
    }
   ],
   "source": [
    "print(arr.shape)\n",
    "\n",
    "print(arr.ndim)"
   ]
  },
  {
   "cell_type": "markdown",
   "metadata": {},
   "source": [
    "Podemos também criar arrays arbitrários usando `np.array()`"
   ]
  },
  {
   "cell_type": "code",
   "execution_count": 143,
   "metadata": {},
   "outputs": [
    {
     "name": "stdout",
     "output_type": "stream",
     "text": [
      "[ 2.4   3.12  5.    6.  ]\n"
     ]
    }
   ],
   "source": [
    "arr2 = np.array([2.4, 3.12, 5, 6])\n",
    "\n",
    "print(arr2)"
   ]
  },
  {
   "cell_type": "markdown",
   "metadata": {},
   "source": [
    "Podemos também criar arrays arbitrários de multiplas dimensões e com tipos variados"
   ]
  },
  {
   "cell_type": "code",
   "execution_count": 144,
   "metadata": {},
   "outputs": [
    {
     "name": "stdout",
     "output_type": "stream",
     "text": [
      "[[ 2.40+5.j  3.12+0.j]\n",
      " [ 5.00+0.j  6.00+0.j]]\n"
     ]
    }
   ],
   "source": [
    "arr3 = np.array([[2.4 + 5.j, 3.12], [5, 6]], dtype=complex)\n",
    "\n",
    "print(arr3)"
   ]
  },
  {
   "cell_type": "markdown",
   "metadata": {},
   "source": [
    "Podemos também criar matrizes vazias ou com uns usando algumas funções especiais"
   ]
  },
  {
   "cell_type": "code",
   "execution_count": 146,
   "metadata": {},
   "outputs": [
    {
     "name": "stdout",
     "output_type": "stream",
     "text": [
      "[[ 0.  0.  0.]\n",
      " [ 0.  0.  0.]]\n",
      "\n",
      "[[ 1.  1.  1.]\n",
      " [ 1.  1.  1.]]\n",
      "\n",
      "[[ 3.24596224  0.01059778  5.13948479]\n",
      " [ 7.66296346  0.41404156  5.48162439]]\n"
     ]
    }
   ],
   "source": [
    "print(np.zeros((2, 3)))\n",
    "print()\n",
    "print(np.ones((2, 3)))\n",
    "print()\n",
    "print(np.random.random((2,3)) * 10)"
   ]
  },
  {
   "cell_type": "markdown",
   "metadata": {},
   "source": [
    "## Operações básicas\n",
    "\n",
    "Podemos fazer algumas operações básicas usando numpy arrays "
   ]
  },
  {
   "cell_type": "code",
   "execution_count": 147,
   "metadata": {},
   "outputs": [
    {
     "name": "stdout",
     "output_type": "stream",
     "text": [
      "[-3 -1  1  2]\n",
      "[ 5  7  9 10]\n",
      "[ 4 12 20 24]\n"
     ]
    }
   ],
   "source": [
    "# Operações em todos os elementos\n",
    "a = np.array([1, 3, 5, 6])\n",
    "b = np.array(4)\n",
    "\n",
    "print(a - b)\n",
    "print(a + b)\n",
    "print(a * b)"
   ]
  },
  {
   "cell_type": "code",
   "execution_count": 152,
   "metadata": {},
   "outputs": [
    {
     "name": "stdout",
     "output_type": "stream",
     "text": [
      "[[15  7]\n",
      " [ 3  7]]\n",
      "[[50 12]\n",
      " [ 2 10]]\n",
      "\n",
      "Para o produto interno, usamos o .dot\n",
      "[[53 26]\n",
      " [25 18]]\n"
     ]
    }
   ],
   "source": [
    "# Operações entre matrizes\n",
    "c = np.array([[5, 3], [2, 5]])\n",
    "d = np.array([[10, 4], [1, 2]])\n",
    "\n",
    "print(c + d)\n",
    "# Note como essa multiplicação é um produto por elemento, não um\n",
    "# produto interno\n",
    "print(c * d)\n",
    "print()\n",
    "print(\"Para o produto interno, usamos o .dot\")\n",
    "print(c.dot(d))"
   ]
  },
  {
   "cell_type": "markdown",
   "metadata": {},
   "source": [
    "Também podemos executar operações booleanas com arrays"
   ]
  },
  {
   "cell_type": "code",
   "execution_count": 153,
   "metadata": {},
   "outputs": [
    {
     "name": "stdout",
     "output_type": "stream",
     "text": [
      "[[False  True]\n",
      " [ True False]]\n"
     ]
    }
   ],
   "source": [
    "print(c < 5)"
   ]
  },
  {
   "cell_type": "markdown",
   "metadata": {},
   "source": [
    "## Índices e fatias\n",
    "\n",
    "Numpy nos dá várias ferramentas para fatiar arrays:"
   ]
  },
  {
   "cell_type": "code",
   "execution_count": 160,
   "metadata": {},
   "outputs": [
    {
     "name": "stdout",
     "output_type": "stream",
     "text": [
      "[[ 7.52334218  9.8323297   4.97469908  5.78658907]\n",
      " [ 0.54091859  7.55435552  3.97374814  1.00550356]\n",
      " [ 0.20858655  0.07424171  4.91714129  9.8301505 ]\n",
      " [ 1.19459642  6.66478589  7.27895691  8.73243784]]\n",
      "\n",
      "[[ 9.8323297   4.97469908  5.78658907]\n",
      " [ 7.55435552  3.97374814  1.00550356]\n",
      " [ 0.07424171  4.91714129  9.8301505 ]\n",
      " [ 6.66478589  7.27895691  8.73243784]]\n"
     ]
    }
   ],
   "source": [
    "a = np.random.random((4, 4)) * 10\n",
    "\n",
    "print(a.T)\n",
    "print()\n",
    "\n",
    "# Como fazíamos em listas normais\n",
    "print(a[1:4].T)"
   ]
  },
  {
   "cell_type": "code",
   "execution_count": 155,
   "metadata": {},
   "outputs": [
    {
     "name": "stdout",
     "output_type": "stream",
     "text": [
      "[ 7.548479    5.02937012  9.00112422]\n"
     ]
    }
   ],
   "source": [
    "# Podemos também pegar colunas específicas\n",
    "print(a[1:4, 1])"
   ]
  },
  {
   "cell_type": "markdown",
   "metadata": {},
   "source": [
    "Em datascience vamos usar numpy o tempo todo para controlar nossas matrizes, mas e quando nós quisermos fazer gráficos?\n",
    "\n",
    "Python tem um pacote para isso e ele se chama matplotlib\n",
    "\n",
    "# Matplotlib\n",
    "\n",
    "Matplotlib é enorme. Ele permite fazer qualquer coisa com gráficos. Para nossos exemplos, vamos aprender alguns dos gráficos mais importantes\n",
    "\n",
    "Primeiramente, para importar:"
   ]
  },
  {
   "cell_type": "code",
   "execution_count": 168,
   "metadata": {},
   "outputs": [
    {
     "data": {
      "image/png": "[encoded data removed]",
      "text/plain": [
       "<matplotlib.figure.Figure at 0x1155ca2e8>"
      ]
     },
     "metadata": {},
     "output_type": "display_data"
    }
   ],
   "source": [
    "from matplotlib import pyplot as plt\n",
    "\n",
    "\n",
    "plt.plot([1, 2, 5, 4])\n",
    "plt.show()"
   ]
  },
  {
   "cell_type": "markdown",
   "metadata": {},
   "source": [
    "Matplotlib é capaz de inferir tipos de gráficos a partir dos dados. Dessa forma, muitas vezes ele consegue, sozinho, descobrir o melhor tipo de gráfico para os seus dados.\n",
    "\n",
    "Para fazer um gráfico, seguimos 2 passos:"
   ]
  },
  {
   "cell_type": "code",
   "execution_count": 169,
   "metadata": {},
   "outputs": [
    {
     "data": {
      "image/png": "[encoded data removed]",
      "text/plain": [
       "<matplotlib.figure.Figure at 0x1156cfe10>"
      ]
     },
     "metadata": {},
     "output_type": "display_data"
    }
   ],
   "source": [
    "# Criamos uma instância do gráfico\n",
    "plt.plot([1,2,5,4])\n",
    "\n",
    "# Pedimos que matplotlib mostre o gráfico\n",
    "plt.show()"
   ]
  },
  {
   "cell_type": "code",
   "execution_count": 172,
   "metadata": {},
   "outputs": [
    {
     "data": {
      "image/png": "[encoded data removed]",
      "text/plain": [
       "<matplotlib.figure.Figure at 0x1158a8240>"
      ]
     },
     "metadata": {},
     "output_type": "display_data"
    }
   ],
   "source": [
    "# Podemos passar matrizes mais complexas para ter gráficos mais interessantes\n",
    "# Podemos também definir o tipo de gráfico a mostrar. No caso, scatter\n",
    "plt.bar([1,2,3,4], [1,4,9,16])\n",
    "plt.show()"
   ]
  },
  {
   "cell_type": "code",
   "execution_count": 173,
   "metadata": {},
   "outputs": [
    {
     "data": {
      "image/png": "[encoded data removed]",
      "text/plain": [
       "<matplotlib.figure.Figure at 0x1156e8978>"
      ]
     },
     "metadata": {},
     "output_type": "display_data"
    }
   ],
   "source": [
    "# Podemos mostrar gráficos de barras também\n",
    "plt.bar([1,2,3,4], [1,4,9,16])\n",
    "plt.show()"
   ]
  },
  {
   "cell_type": "code",
   "execution_count": 174,
   "metadata": {},
   "outputs": [
    {
     "data": {
      "image/png": "[encoded data removed]",
      "text/plain": [
       "<matplotlib.figure.Figure at 0x11522e908>"
      ]
     },
     "metadata": {},
     "output_type": "display_data"
    }
   ],
   "source": [
    "# E juntar vários gráficos juntos\n",
    "plt.plot([1,2,3,4], [1,4,9,16])\n",
    "plt.bar([4,5,4,10], [3,4,2,16])\n",
    "plt.show()"
   ]
  },
  {
   "cell_type": "code",
   "execution_count": 176,
   "metadata": {},
   "outputs": [
    {
     "data": {
      "image/png": "[encoded data removed]",
      "text/plain": [
       "<matplotlib.figure.Figure at 0x115211cc0>"
      ]
     },
     "metadata": {},
     "output_type": "display_data"
    }
   ],
   "source": [
    "# E até exemplos mais complexos\n",
    "def f(t):\n",
    "    # Função que calcula o amortecimento de uma curva\n",
    "    return np.exp(-t) * np.cos(2*np.pi*t)\n",
    "\n",
    "# Criamos dois arrays para representarem nossos dados\n",
    "t1 = np.arange(0.0, 5.0, 0.1)\n",
    "t2 = np.arange(0.0, 5.0, 0.02)\n",
    "\n",
    "# Criamos um sub-gráfico para separar em duas visões, definindo as dimensões\n",
    "\n",
    "# Plotamos o gráfico passando os dados e as funções de amortecimento\n",
    "plt.plot(t1, f(t1), 'bo', t2, f(t2), 'k')\n",
    "\n",
    "# Esse segundo gráfico vai mostrar uma função não amortecida, para os mesmos dados\n",
    "\n",
    "# plotamos o gráfico, usando cos 2*v como período\n",
    "plt.plot(t2, np.cos(2*np.pi*t2), 'r--')\n",
    "\n",
    "# Finalmente mostramos ambos os gráficos\n",
    "plt.show()"
   ]
  },
  {
   "cell_type": "markdown",
   "metadata": {},
   "source": [
    "Por enquanto é só em matplotlib. Essa é uma biblioteca enorme e cheia de detalhes. A melhor forma de aprender é tentar fazer coisas nela, ler a documentação e experimentar.\n",
    "\n",
    "# Pandas\n",
    "\n",
    "Vamos agora para a biblioteca que talvez seja a mais útil das 3. Pandas permite a manipulação e visualização de estruturas de dados mais complexas, chamadas DataFrames.\n",
    "\n",
    "Vamos começar importando pandas"
   ]
  },
  {
   "cell_type": "code",
   "execution_count": 177,
   "metadata": {
    "collapsed": true
   },
   "outputs": [],
   "source": [
    "import pandas as pd"
   ]
  },
  {
   "cell_type": "markdown",
   "metadata": {},
   "source": [
    "Agora nós podemos criar um dataframe usando um arquivo CSV\n",
    "\n",
    "Vamos usar um arquivo que contém a média dos salários de todos os funcionários da Unicamp no ano de 2016"
   ]
  },
  {
   "cell_type": "code",
   "execution_count": 178,
   "metadata": {},
   "outputs": [
    {
     "data": {
      "text/html": [
       "<div>\n",
       "<style>\n",
       "    .dataframe thead tr:only-child th {\n",
       "        text-align: right;\n",
       "    }\n",
       "\n",
       "    .dataframe thead th {\n",
       "        text-align: left;\n",
       "    }\n",
       "\n",
       "    .dataframe tbody tr th {\n",
       "        vertical-align: top;\n",
       "    }\n",
       "</style>\n",
       "<table border=\"1\" class=\"dataframe\">\n",
       "  <thead>\n",
       "    <tr style=\"text-align: right;\">\n",
       "      <th></th>\n",
       "      <th>Remuneração Bruta</th>\n",
       "      <th>Remuneração Líquida</th>\n",
       "      <th>Nome</th>\n",
       "    </tr>\n",
       "  </thead>\n",
       "  <tbody>\n",
       "    <tr>\n",
       "      <th>0</th>\n",
       "      <td>465.703333</td>\n",
       "      <td>456.390000</td>\n",
       "      <td>ADELICIA SILVA FRANCISCO</td>\n",
       "    </tr>\n",
       "    <tr>\n",
       "      <th>1</th>\n",
       "      <td>1730.240000</td>\n",
       "      <td>620.830000</td>\n",
       "      <td>AMAURY PIRES</td>\n",
       "    </tr>\n",
       "    <tr>\n",
       "      <th>2</th>\n",
       "      <td>1803.500000</td>\n",
       "      <td>860.070000</td>\n",
       "      <td>ADAIL DE SOUZA</td>\n",
       "    </tr>\n",
       "    <tr>\n",
       "      <th>3</th>\n",
       "      <td>2304.901111</td>\n",
       "      <td>1232.155556</td>\n",
       "      <td>THEREZINHA DA SILVA MARIANO</td>\n",
       "    </tr>\n",
       "    <tr>\n",
       "      <th>4</th>\n",
       "      <td>3555.453333</td>\n",
       "      <td>1240.090000</td>\n",
       "      <td>ALCIDES RAMOS</td>\n",
       "    </tr>\n",
       "    <tr>\n",
       "      <th>5</th>\n",
       "      <td>1928.996667</td>\n",
       "      <td>1397.555556</td>\n",
       "      <td>ALCIDIA FERREIRA DE ARAUJO PEREIRA</td>\n",
       "    </tr>\n",
       "    <tr>\n",
       "      <th>6</th>\n",
       "      <td>2197.283333</td>\n",
       "      <td>1423.173333</td>\n",
       "      <td>ADACIR APARECIDA CAMPOS</td>\n",
       "    </tr>\n",
       "    <tr>\n",
       "      <th>7</th>\n",
       "      <td>1434.603333</td>\n",
       "      <td>1434.603333</td>\n",
       "      <td>ALICE SILVA MARIANO DE ANDRADE</td>\n",
       "    </tr>\n",
       "    <tr>\n",
       "      <th>8</th>\n",
       "      <td>4071.003333</td>\n",
       "      <td>1446.681111</td>\n",
       "      <td>ALCIDES DA SILVA</td>\n",
       "    </tr>\n",
       "    <tr>\n",
       "      <th>9</th>\n",
       "      <td>2170.373333</td>\n",
       "      <td>1451.196667</td>\n",
       "      <td>ALCINO MARTINS</td>\n",
       "    </tr>\n",
       "    <tr>\n",
       "      <th>10</th>\n",
       "      <td>1511.716667</td>\n",
       "      <td>1481.483333</td>\n",
       "      <td>AMELIA AMERICANO FRANCO DOMINGUES CASTRO</td>\n",
       "    </tr>\n",
       "    <tr>\n",
       "      <th>11</th>\n",
       "      <td>1690.034444</td>\n",
       "      <td>1566.773333</td>\n",
       "      <td>APARECIDA DE JESUS DA SILVA BRAMBILLA</td>\n",
       "    </tr>\n",
       "    <tr>\n",
       "      <th>12</th>\n",
       "      <td>1615.404444</td>\n",
       "      <td>1615.404444</td>\n",
       "      <td>APARECIDA DE LIMA MARTINS</td>\n",
       "    </tr>\n",
       "    <tr>\n",
       "      <th>13</th>\n",
       "      <td>3166.548889</td>\n",
       "      <td>1731.053333</td>\n",
       "      <td>MARIA DOS SANTOS</td>\n",
       "    </tr>\n",
       "    <tr>\n",
       "      <th>14</th>\n",
       "      <td>2538.296667</td>\n",
       "      <td>1756.187778</td>\n",
       "      <td>HORALDO BIROLLI</td>\n",
       "    </tr>\n",
       "    <tr>\n",
       "      <th>15</th>\n",
       "      <td>1884.880000</td>\n",
       "      <td>1765.946667</td>\n",
       "      <td>ZENAIDE DA SILVA NASCIMENTO</td>\n",
       "    </tr>\n",
       "    <tr>\n",
       "      <th>16</th>\n",
       "      <td>2448.182222</td>\n",
       "      <td>1782.016667</td>\n",
       "      <td>ISAEL FERNANDES</td>\n",
       "    </tr>\n",
       "    <tr>\n",
       "      <th>17</th>\n",
       "      <td>1845.020000</td>\n",
       "      <td>1808.120000</td>\n",
       "      <td>ABIGAIL CANDIDO BERTOLINI</td>\n",
       "    </tr>\n",
       "    <tr>\n",
       "      <th>18</th>\n",
       "      <td>1896.577778</td>\n",
       "      <td>1858.646667</td>\n",
       "      <td>ELZA CARVALHO DOS SANTOS MANOEL</td>\n",
       "    </tr>\n",
       "    <tr>\n",
       "      <th>19</th>\n",
       "      <td>2127.451111</td>\n",
       "      <td>1897.726667</td>\n",
       "      <td>DIVANIR ALVES DE SOUZA SILVA</td>\n",
       "    </tr>\n",
       "    <tr>\n",
       "      <th>20</th>\n",
       "      <td>2140.128889</td>\n",
       "      <td>1948.612222</td>\n",
       "      <td>ENAIDE LAZARINI</td>\n",
       "    </tr>\n",
       "    <tr>\n",
       "      <th>21</th>\n",
       "      <td>1995.153333</td>\n",
       "      <td>1968.060000</td>\n",
       "      <td>IRMA FREITAS</td>\n",
       "    </tr>\n",
       "    <tr>\n",
       "      <th>22</th>\n",
       "      <td>2737.591111</td>\n",
       "      <td>2005.695556</td>\n",
       "      <td>ANTONIO MELO DE OLIVEIRA</td>\n",
       "    </tr>\n",
       "    <tr>\n",
       "      <th>23</th>\n",
       "      <td>3610.673333</td>\n",
       "      <td>2010.023333</td>\n",
       "      <td>RAUL JOAO STEFANINI</td>\n",
       "    </tr>\n",
       "    <tr>\n",
       "      <th>24</th>\n",
       "      <td>2199.266667</td>\n",
       "      <td>2026.698889</td>\n",
       "      <td>ALBERT DE OLIVEIRA SILVA</td>\n",
       "    </tr>\n",
       "    <tr>\n",
       "      <th>25</th>\n",
       "      <td>2050.673333</td>\n",
       "      <td>2050.673333</td>\n",
       "      <td>AMELIA MARIA HILARIO</td>\n",
       "    </tr>\n",
       "    <tr>\n",
       "      <th>26</th>\n",
       "      <td>2050.803333</td>\n",
       "      <td>2050.803333</td>\n",
       "      <td>ANA IRIS MARTINO DOS SANTOS</td>\n",
       "    </tr>\n",
       "    <tr>\n",
       "      <th>27</th>\n",
       "      <td>2288.830000</td>\n",
       "      <td>2060.864444</td>\n",
       "      <td>ADEZIRA VIEIRA DOS SANTOS</td>\n",
       "    </tr>\n",
       "    <tr>\n",
       "      <th>28</th>\n",
       "      <td>2232.386667</td>\n",
       "      <td>2090.253333</td>\n",
       "      <td>CARLOS ROBERTO DE MELO</td>\n",
       "    </tr>\n",
       "    <tr>\n",
       "      <th>29</th>\n",
       "      <td>2156.692222</td>\n",
       "      <td>2094.602222</td>\n",
       "      <td>ANA ALICE SANTOS SILVA</td>\n",
       "    </tr>\n",
       "    <tr>\n",
       "      <th>...</th>\n",
       "      <td>...</td>\n",
       "      <td>...</td>\n",
       "      <td>...</td>\n",
       "    </tr>\n",
       "    <tr>\n",
       "      <th>13740</th>\n",
       "      <td>29297.588889</td>\n",
       "      <td>19921.281111</td>\n",
       "      <td>ATHANASE BILLIS</td>\n",
       "    </tr>\n",
       "    <tr>\n",
       "      <th>13741</th>\n",
       "      <td>26279.802222</td>\n",
       "      <td>19957.554444</td>\n",
       "      <td>GABRIEL HESSEL</td>\n",
       "    </tr>\n",
       "    <tr>\n",
       "      <th>13742</th>\n",
       "      <td>26654.403333</td>\n",
       "      <td>19964.641111</td>\n",
       "      <td>CECILIA AMELIA FAZZIO ESCANHOELA</td>\n",
       "    </tr>\n",
       "    <tr>\n",
       "      <th>13743</th>\n",
       "      <td>27505.407778</td>\n",
       "      <td>20078.324444</td>\n",
       "      <td>MARIA CRISTINA VOLPATO</td>\n",
       "    </tr>\n",
       "    <tr>\n",
       "      <th>13744</th>\n",
       "      <td>28420.366667</td>\n",
       "      <td>20103.583333</td>\n",
       "      <td>AMIR ORDACGI CALDEIRA</td>\n",
       "    </tr>\n",
       "    <tr>\n",
       "      <th>13745</th>\n",
       "      <td>25911.180000</td>\n",
       "      <td>20136.160000</td>\n",
       "      <td>FRANCISCO BENJAMIN DE SOUZA NETTO</td>\n",
       "    </tr>\n",
       "    <tr>\n",
       "      <th>13746</th>\n",
       "      <td>28870.646667</td>\n",
       "      <td>20216.738889</td>\n",
       "      <td>LUIZ CARLOS ZEFERINO</td>\n",
       "    </tr>\n",
       "    <tr>\n",
       "      <th>13747</th>\n",
       "      <td>22909.744444</td>\n",
       "      <td>20397.505556</td>\n",
       "      <td>ALBERT JAMES KASCHERES</td>\n",
       "    </tr>\n",
       "    <tr>\n",
       "      <th>13748</th>\n",
       "      <td>29789.874444</td>\n",
       "      <td>20401.255556</td>\n",
       "      <td>ARCHIMEDES PEREZ FILHO</td>\n",
       "    </tr>\n",
       "    <tr>\n",
       "      <th>13749</th>\n",
       "      <td>23031.064444</td>\n",
       "      <td>20409.172222</td>\n",
       "      <td>ALOISIO JOSE ANTUNES</td>\n",
       "    </tr>\n",
       "    <tr>\n",
       "      <th>13750</th>\n",
       "      <td>24952.613333</td>\n",
       "      <td>20753.126667</td>\n",
       "      <td>ANTONIO CARLOS BOSCHIERO</td>\n",
       "    </tr>\n",
       "    <tr>\n",
       "      <th>13751</th>\n",
       "      <td>26992.692222</td>\n",
       "      <td>20776.918889</td>\n",
       "      <td>CARLOS ALFREDO BAPTISTA DE CAMPOS</td>\n",
       "    </tr>\n",
       "    <tr>\n",
       "      <th>13752</th>\n",
       "      <td>27894.387778</td>\n",
       "      <td>20794.407778</td>\n",
       "      <td>FERMINO FERNANDES SISTO</td>\n",
       "    </tr>\n",
       "    <tr>\n",
       "      <th>13753</th>\n",
       "      <td>27188.042222</td>\n",
       "      <td>21041.595556</td>\n",
       "      <td>MARILDA MAZZALI</td>\n",
       "    </tr>\n",
       "    <tr>\n",
       "      <th>13754</th>\n",
       "      <td>27099.903333</td>\n",
       "      <td>21092.008889</td>\n",
       "      <td>CARLOS ALONSO BARBOSA DE OLIVEIRA</td>\n",
       "    </tr>\n",
       "    <tr>\n",
       "      <th>13755</th>\n",
       "      <td>27708.155556</td>\n",
       "      <td>21449.694444</td>\n",
       "      <td>CESAR JOSE BONJUANI PAGAN</td>\n",
       "    </tr>\n",
       "    <tr>\n",
       "      <th>13756</th>\n",
       "      <td>26392.808889</td>\n",
       "      <td>21529.033333</td>\n",
       "      <td>IVAN EMILIO CHAMBOULEYRON</td>\n",
       "    </tr>\n",
       "    <tr>\n",
       "      <th>13757</th>\n",
       "      <td>25532.902222</td>\n",
       "      <td>21649.618889</td>\n",
       "      <td>ADIL MUHIB SAMARA</td>\n",
       "    </tr>\n",
       "    <tr>\n",
       "      <th>13758</th>\n",
       "      <td>25900.601111</td>\n",
       "      <td>21852.827778</td>\n",
       "      <td>ANDRE MARIA POMPEU VILLALOBOS</td>\n",
       "    </tr>\n",
       "    <tr>\n",
       "      <th>13759</th>\n",
       "      <td>26849.376667</td>\n",
       "      <td>22287.253333</td>\n",
       "      <td>ANTONIO ARNONI PRADO</td>\n",
       "    </tr>\n",
       "    <tr>\n",
       "      <th>13760</th>\n",
       "      <td>27970.980000</td>\n",
       "      <td>22618.762222</td>\n",
       "      <td>NELO DA SILVA ALLAN</td>\n",
       "    </tr>\n",
       "    <tr>\n",
       "      <th>13761</th>\n",
       "      <td>30307.812222</td>\n",
       "      <td>22634.598889</td>\n",
       "      <td>ALCIBIADES RIGAS</td>\n",
       "    </tr>\n",
       "    <tr>\n",
       "      <th>13762</th>\n",
       "      <td>29648.262222</td>\n",
       "      <td>22696.610000</td>\n",
       "      <td>ANTONIO FAGGIANI</td>\n",
       "    </tr>\n",
       "    <tr>\n",
       "      <th>13763</th>\n",
       "      <td>31530.016667</td>\n",
       "      <td>23089.822222</td>\n",
       "      <td>ANGELICA DE FATIMA DE ASSUNCAO BRAGA</td>\n",
       "    </tr>\n",
       "    <tr>\n",
       "      <th>13764</th>\n",
       "      <td>35151.452222</td>\n",
       "      <td>23276.758889</td>\n",
       "      <td>FERNANDO GALEMBECK</td>\n",
       "    </tr>\n",
       "    <tr>\n",
       "      <th>13765</th>\n",
       "      <td>28294.930000</td>\n",
       "      <td>23509.667778</td>\n",
       "      <td>ANTONIO WILSON SALLUM</td>\n",
       "    </tr>\n",
       "    <tr>\n",
       "      <th>13766</th>\n",
       "      <td>41424.067778</td>\n",
       "      <td>25083.344444</td>\n",
       "      <td>PATRICIA MARIA MORATO LOPES</td>\n",
       "    </tr>\n",
       "    <tr>\n",
       "      <th>13767</th>\n",
       "      <td>31934.915556</td>\n",
       "      <td>25319.146667</td>\n",
       "      <td>MARIA CRISTINA VALIM LOURENCO GOMES</td>\n",
       "    </tr>\n",
       "    <tr>\n",
       "      <th>13768</th>\n",
       "      <td>37729.283333</td>\n",
       "      <td>25372.423333</td>\n",
       "      <td>OCTACILIO MACHADO RIBEIRO</td>\n",
       "    </tr>\n",
       "    <tr>\n",
       "      <th>13769</th>\n",
       "      <td>48882.177778</td>\n",
       "      <td>28876.961111</td>\n",
       "      <td>ADILSON ROBERTO CARDOSO</td>\n",
       "    </tr>\n",
       "  </tbody>\n",
       "</table>\n",
       "<p>13770 rows × 3 columns</p>\n",
       "</div>"
      ],
      "text/plain": [
       "       Remuneração Bruta  Remuneração Líquida  \\\n",
       "0             465.703333           456.390000   \n",
       "1            1730.240000           620.830000   \n",
       "2            1803.500000           860.070000   \n",
       "3            2304.901111          1232.155556   \n",
       "4            3555.453333          1240.090000   \n",
       "5            1928.996667          1397.555556   \n",
       "6            2197.283333          1423.173333   \n",
       "7            1434.603333          1434.603333   \n",
       "8            4071.003333          1446.681111   \n",
       "9            2170.373333          1451.196667   \n",
       "10           1511.716667          1481.483333   \n",
       "11           1690.034444          1566.773333   \n",
       "12           1615.404444          1615.404444   \n",
       "13           3166.548889          1731.053333   \n",
       "14           2538.296667          1756.187778   \n",
       "15           1884.880000          1765.946667   \n",
       "16           2448.182222          1782.016667   \n",
       "17           1845.020000          1808.120000   \n",
       "18           1896.577778          1858.646667   \n",
       "19           2127.451111          1897.726667   \n",
       "20           2140.128889          1948.612222   \n",
       "21           1995.153333          1968.060000   \n",
       "22           2737.591111          2005.695556   \n",
       "23           3610.673333          2010.023333   \n",
       "24           2199.266667          2026.698889   \n",
       "25           2050.673333          2050.673333   \n",
       "26           2050.803333          2050.803333   \n",
       "27           2288.830000          2060.864444   \n",
       "28           2232.386667          2090.253333   \n",
       "29           2156.692222          2094.602222   \n",
       "...                  ...                  ...   \n",
       "13740       29297.588889         19921.281111   \n",
       "13741       26279.802222         19957.554444   \n",
       "13742       26654.403333         19964.641111   \n",
       "13743       27505.407778         20078.324444   \n",
       "13744       28420.366667         20103.583333   \n",
       "13745       25911.180000         20136.160000   \n",
       "13746       28870.646667         20216.738889   \n",
       "13747       22909.744444         20397.505556   \n",
       "13748       29789.874444         20401.255556   \n",
       "13749       23031.064444         20409.172222   \n",
       "13750       24952.613333         20753.126667   \n",
       "13751       26992.692222         20776.918889   \n",
       "13752       27894.387778         20794.407778   \n",
       "13753       27188.042222         21041.595556   \n",
       "13754       27099.903333         21092.008889   \n",
       "13755       27708.155556         21449.694444   \n",
       "13756       26392.808889         21529.033333   \n",
       "13757       25532.902222         21649.618889   \n",
       "13758       25900.601111         21852.827778   \n",
       "13759       26849.376667         22287.253333   \n",
       "13760       27970.980000         22618.762222   \n",
       "13761       30307.812222         22634.598889   \n",
       "13762       29648.262222         22696.610000   \n",
       "13763       31530.016667         23089.822222   \n",
       "13764       35151.452222         23276.758889   \n",
       "13765       28294.930000         23509.667778   \n",
       "13766       41424.067778         25083.344444   \n",
       "13767       31934.915556         25319.146667   \n",
       "13768       37729.283333         25372.423333   \n",
       "13769       48882.177778         28876.961111   \n",
       "\n",
       "                                           Nome  \n",
       "0                      ADELICIA SILVA FRANCISCO  \n",
       "1                                  AMAURY PIRES  \n",
       "2                                ADAIL DE SOUZA  \n",
       "3                   THEREZINHA DA SILVA MARIANO  \n",
       "4                                 ALCIDES RAMOS  \n",
       "5            ALCIDIA FERREIRA DE ARAUJO PEREIRA  \n",
       "6                       ADACIR APARECIDA CAMPOS  \n",
       "7                ALICE SILVA MARIANO DE ANDRADE  \n",
       "8                              ALCIDES DA SILVA  \n",
       "9                                ALCINO MARTINS  \n",
       "10     AMELIA AMERICANO FRANCO DOMINGUES CASTRO  \n",
       "11        APARECIDA DE JESUS DA SILVA BRAMBILLA  \n",
       "12                    APARECIDA DE LIMA MARTINS  \n",
       "13                             MARIA DOS SANTOS  \n",
       "14                              HORALDO BIROLLI  \n",
       "15                  ZENAIDE DA SILVA NASCIMENTO  \n",
       "16                              ISAEL FERNANDES  \n",
       "17                    ABIGAIL CANDIDO BERTOLINI  \n",
       "18              ELZA CARVALHO DOS SANTOS MANOEL  \n",
       "19                 DIVANIR ALVES DE SOUZA SILVA  \n",
       "20                              ENAIDE LAZARINI  \n",
       "21                                 IRMA FREITAS  \n",
       "22                     ANTONIO MELO DE OLIVEIRA  \n",
       "23                          RAUL JOAO STEFANINI  \n",
       "24                     ALBERT DE OLIVEIRA SILVA  \n",
       "25                         AMELIA MARIA HILARIO  \n",
       "26                  ANA IRIS MARTINO DOS SANTOS  \n",
       "27                    ADEZIRA VIEIRA DOS SANTOS  \n",
       "28                       CARLOS ROBERTO DE MELO  \n",
       "29                       ANA ALICE SANTOS SILVA  \n",
       "...                                         ...  \n",
       "13740                           ATHANASE BILLIS  \n",
       "13741                            GABRIEL HESSEL  \n",
       "13742          CECILIA AMELIA FAZZIO ESCANHOELA  \n",
       "13743                    MARIA CRISTINA VOLPATO  \n",
       "13744                     AMIR ORDACGI CALDEIRA  \n",
       "13745         FRANCISCO BENJAMIN DE SOUZA NETTO  \n",
       "13746                      LUIZ CARLOS ZEFERINO  \n",
       "13747                    ALBERT JAMES KASCHERES  \n",
       "13748                    ARCHIMEDES PEREZ FILHO  \n",
       "13749                      ALOISIO JOSE ANTUNES  \n",
       "13750                  ANTONIO CARLOS BOSCHIERO  \n",
       "13751         CARLOS ALFREDO BAPTISTA DE CAMPOS  \n",
       "13752                   FERMINO FERNANDES SISTO  \n",
       "13753                           MARILDA MAZZALI  \n",
       "13754         CARLOS ALONSO BARBOSA DE OLIVEIRA  \n",
       "13755                 CESAR JOSE BONJUANI PAGAN  \n",
       "13756                 IVAN EMILIO CHAMBOULEYRON  \n",
       "13757                         ADIL MUHIB SAMARA  \n",
       "13758             ANDRE MARIA POMPEU VILLALOBOS  \n",
       "13759                      ANTONIO ARNONI PRADO  \n",
       "13760                       NELO DA SILVA ALLAN  \n",
       "13761                          ALCIBIADES RIGAS  \n",
       "13762                          ANTONIO FAGGIANI  \n",
       "13763      ANGELICA DE FATIMA DE ASSUNCAO BRAGA  \n",
       "13764                        FERNANDO GALEMBECK  \n",
       "13765                     ANTONIO WILSON SALLUM  \n",
       "13766               PATRICIA MARIA MORATO LOPES  \n",
       "13767       MARIA CRISTINA VALIM LOURENCO GOMES  \n",
       "13768                 OCTACILIO MACHADO RIBEIRO  \n",
       "13769                   ADILSON ROBERTO CARDOSO  \n",
       "\n",
       "[13770 rows x 3 columns]"
      ]
     },
     "execution_count": 178,
     "metadata": {},
     "output_type": "execute_result"
    }
   ],
   "source": [
    "df = pd.read_csv(\"../static/data/salários.csv\").iloc[:, 2:]\n",
    "\n",
    "df"
   ]
  },
  {
   "cell_type": "markdown",
   "metadata": {},
   "source": [
    "Como podemos ver, pandas é muito útil para mostrar tabelas de dados como essa.\n",
    "\n",
    "Podemos fazer algumas coisas legais com ele.\n",
    "\n",
    "Por exemplo, podemos pedir para ele descrever os dados e nos ajudar a entender melhor o que está dentro dessa tabela"
   ]
  },
  {
   "cell_type": "code",
   "execution_count": 179,
   "metadata": {},
   "outputs": [
    {
     "data": {
      "text/html": [
       "<div>\n",
       "<style>\n",
       "    .dataframe thead tr:only-child th {\n",
       "        text-align: right;\n",
       "    }\n",
       "\n",
       "    .dataframe thead th {\n",
       "        text-align: left;\n",
       "    }\n",
       "\n",
       "    .dataframe tbody tr th {\n",
       "        vertical-align: top;\n",
       "    }\n",
       "</style>\n",
       "<table border=\"1\" class=\"dataframe\">\n",
       "  <thead>\n",
       "    <tr style=\"text-align: right;\">\n",
       "      <th></th>\n",
       "      <th>Remuneração Bruta</th>\n",
       "      <th>Remuneração Líquida</th>\n",
       "    </tr>\n",
       "  </thead>\n",
       "  <tbody>\n",
       "    <tr>\n",
       "      <th>count</th>\n",
       "      <td>13770.000000</td>\n",
       "      <td>13770.000000</td>\n",
       "    </tr>\n",
       "    <tr>\n",
       "      <th>mean</th>\n",
       "      <td>9796.623207</td>\n",
       "      <td>7647.630520</td>\n",
       "    </tr>\n",
       "    <tr>\n",
       "      <th>std</th>\n",
       "      <td>4789.405665</td>\n",
       "      <td>3252.860719</td>\n",
       "    </tr>\n",
       "    <tr>\n",
       "      <th>min</th>\n",
       "      <td>465.703333</td>\n",
       "      <td>456.390000</td>\n",
       "    </tr>\n",
       "    <tr>\n",
       "      <th>25%</th>\n",
       "      <td>6233.728611</td>\n",
       "      <td>5233.213889</td>\n",
       "    </tr>\n",
       "    <tr>\n",
       "      <th>50%</th>\n",
       "      <td>8827.908333</td>\n",
       "      <td>7052.596111</td>\n",
       "    </tr>\n",
       "    <tr>\n",
       "      <th>75%</th>\n",
       "      <td>12338.949444</td>\n",
       "      <td>9429.437778</td>\n",
       "    </tr>\n",
       "    <tr>\n",
       "      <th>max</th>\n",
       "      <td>48882.177778</td>\n",
       "      <td>28876.961111</td>\n",
       "    </tr>\n",
       "  </tbody>\n",
       "</table>\n",
       "</div>"
      ],
      "text/plain": [
       "       Remuneração Bruta  Remuneração Líquida\n",
       "count       13770.000000         13770.000000\n",
       "mean         9796.623207          7647.630520\n",
       "std          4789.405665          3252.860719\n",
       "min           465.703333           456.390000\n",
       "25%          6233.728611          5233.213889\n",
       "50%          8827.908333          7052.596111\n",
       "75%         12338.949444          9429.437778\n",
       "max         48882.177778         28876.961111"
      ]
     },
     "execution_count": 179,
     "metadata": {},
     "output_type": "execute_result"
    }
   ],
   "source": [
    "df.describe()"
   ]
  },
  {
   "cell_type": "markdown",
   "metadata": {},
   "source": [
    "Podemos também selecionar uma coluna específica"
   ]
  },
  {
   "cell_type": "code",
   "execution_count": 180,
   "metadata": {},
   "outputs": [
    {
     "data": {
      "text/plain": [
       "0                        ADELICIA SILVA FRANCISCO\n",
       "1                                    AMAURY PIRES\n",
       "2                                  ADAIL DE SOUZA\n",
       "3                     THEREZINHA DA SILVA MARIANO\n",
       "4                                   ALCIDES RAMOS\n",
       "5              ALCIDIA FERREIRA DE ARAUJO PEREIRA\n",
       "6                         ADACIR APARECIDA CAMPOS\n",
       "7                  ALICE SILVA MARIANO DE ANDRADE\n",
       "8                                ALCIDES DA SILVA\n",
       "9                                  ALCINO MARTINS\n",
       "10       AMELIA AMERICANO FRANCO DOMINGUES CASTRO\n",
       "11          APARECIDA DE JESUS DA SILVA BRAMBILLA\n",
       "12                      APARECIDA DE LIMA MARTINS\n",
       "13                               MARIA DOS SANTOS\n",
       "14                                HORALDO BIROLLI\n",
       "15                    ZENAIDE DA SILVA NASCIMENTO\n",
       "16                                ISAEL FERNANDES\n",
       "17                      ABIGAIL CANDIDO BERTOLINI\n",
       "18                ELZA CARVALHO DOS SANTOS MANOEL\n",
       "19                   DIVANIR ALVES DE SOUZA SILVA\n",
       "20                                ENAIDE LAZARINI\n",
       "21                                   IRMA FREITAS\n",
       "22                       ANTONIO MELO DE OLIVEIRA\n",
       "23                            RAUL JOAO STEFANINI\n",
       "24                       ALBERT DE OLIVEIRA SILVA\n",
       "25                           AMELIA MARIA HILARIO\n",
       "26                    ANA IRIS MARTINO DOS SANTOS\n",
       "27                      ADEZIRA VIEIRA DOS SANTOS\n",
       "28                         CARLOS ROBERTO DE MELO\n",
       "29                         ANA ALICE SANTOS SILVA\n",
       "                           ...                   \n",
       "13740                             ATHANASE BILLIS\n",
       "13741                              GABRIEL HESSEL\n",
       "13742            CECILIA AMELIA FAZZIO ESCANHOELA\n",
       "13743                      MARIA CRISTINA VOLPATO\n",
       "13744                       AMIR ORDACGI CALDEIRA\n",
       "13745           FRANCISCO BENJAMIN DE SOUZA NETTO\n",
       "13746                        LUIZ CARLOS ZEFERINO\n",
       "13747                      ALBERT JAMES KASCHERES\n",
       "13748                      ARCHIMEDES PEREZ FILHO\n",
       "13749                        ALOISIO JOSE ANTUNES\n",
       "13750                    ANTONIO CARLOS BOSCHIERO\n",
       "13751           CARLOS ALFREDO BAPTISTA DE CAMPOS\n",
       "13752                     FERMINO FERNANDES SISTO\n",
       "13753                             MARILDA MAZZALI\n",
       "13754           CARLOS ALONSO BARBOSA DE OLIVEIRA\n",
       "13755                   CESAR JOSE BONJUANI PAGAN\n",
       "13756                   IVAN EMILIO CHAMBOULEYRON\n",
       "13757                           ADIL MUHIB SAMARA\n",
       "13758               ANDRE MARIA POMPEU VILLALOBOS\n",
       "13759                        ANTONIO ARNONI PRADO\n",
       "13760                         NELO DA SILVA ALLAN\n",
       "13761                            ALCIBIADES RIGAS\n",
       "13762                            ANTONIO FAGGIANI\n",
       "13763        ANGELICA DE FATIMA DE ASSUNCAO BRAGA\n",
       "13764                          FERNANDO GALEMBECK\n",
       "13765                       ANTONIO WILSON SALLUM\n",
       "13766                 PATRICIA MARIA MORATO LOPES\n",
       "13767         MARIA CRISTINA VALIM LOURENCO GOMES\n",
       "13768                   OCTACILIO MACHADO RIBEIRO\n",
       "13769                     ADILSON ROBERTO CARDOSO\n",
       "Name: Nome, Length: 13770, dtype: object"
      ]
     },
     "execution_count": 180,
     "metadata": {},
     "output_type": "execute_result"
    }
   ],
   "source": [
    "df['Nome']"
   ]
  },
  {
   "cell_type": "markdown",
   "metadata": {},
   "source": [
    "Selecionar duas colunas"
   ]
  },
  {
   "cell_type": "code",
   "execution_count": 181,
   "metadata": {},
   "outputs": [
    {
     "data": {
      "text/html": [
       "<div>\n",
       "<style>\n",
       "    .dataframe thead tr:only-child th {\n",
       "        text-align: right;\n",
       "    }\n",
       "\n",
       "    .dataframe thead th {\n",
       "        text-align: left;\n",
       "    }\n",
       "\n",
       "    .dataframe tbody tr th {\n",
       "        vertical-align: top;\n",
       "    }\n",
       "</style>\n",
       "<table border=\"1\" class=\"dataframe\">\n",
       "  <thead>\n",
       "    <tr style=\"text-align: right;\">\n",
       "      <th></th>\n",
       "      <th>Nome</th>\n",
       "      <th>Remuneração Líquida</th>\n",
       "    </tr>\n",
       "  </thead>\n",
       "  <tbody>\n",
       "    <tr>\n",
       "      <th>0</th>\n",
       "      <td>ADELICIA SILVA FRANCISCO</td>\n",
       "      <td>456.390000</td>\n",
       "    </tr>\n",
       "    <tr>\n",
       "      <th>1</th>\n",
       "      <td>AMAURY PIRES</td>\n",
       "      <td>620.830000</td>\n",
       "    </tr>\n",
       "    <tr>\n",
       "      <th>2</th>\n",
       "      <td>ADAIL DE SOUZA</td>\n",
       "      <td>860.070000</td>\n",
       "    </tr>\n",
       "    <tr>\n",
       "      <th>3</th>\n",
       "      <td>THEREZINHA DA SILVA MARIANO</td>\n",
       "      <td>1232.155556</td>\n",
       "    </tr>\n",
       "    <tr>\n",
       "      <th>4</th>\n",
       "      <td>ALCIDES RAMOS</td>\n",
       "      <td>1240.090000</td>\n",
       "    </tr>\n",
       "    <tr>\n",
       "      <th>5</th>\n",
       "      <td>ALCIDIA FERREIRA DE ARAUJO PEREIRA</td>\n",
       "      <td>1397.555556</td>\n",
       "    </tr>\n",
       "    <tr>\n",
       "      <th>6</th>\n",
       "      <td>ADACIR APARECIDA CAMPOS</td>\n",
       "      <td>1423.173333</td>\n",
       "    </tr>\n",
       "    <tr>\n",
       "      <th>7</th>\n",
       "      <td>ALICE SILVA MARIANO DE ANDRADE</td>\n",
       "      <td>1434.603333</td>\n",
       "    </tr>\n",
       "    <tr>\n",
       "      <th>8</th>\n",
       "      <td>ALCIDES DA SILVA</td>\n",
       "      <td>1446.681111</td>\n",
       "    </tr>\n",
       "    <tr>\n",
       "      <th>9</th>\n",
       "      <td>ALCINO MARTINS</td>\n",
       "      <td>1451.196667</td>\n",
       "    </tr>\n",
       "    <tr>\n",
       "      <th>10</th>\n",
       "      <td>AMELIA AMERICANO FRANCO DOMINGUES CASTRO</td>\n",
       "      <td>1481.483333</td>\n",
       "    </tr>\n",
       "    <tr>\n",
       "      <th>11</th>\n",
       "      <td>APARECIDA DE JESUS DA SILVA BRAMBILLA</td>\n",
       "      <td>1566.773333</td>\n",
       "    </tr>\n",
       "    <tr>\n",
       "      <th>12</th>\n",
       "      <td>APARECIDA DE LIMA MARTINS</td>\n",
       "      <td>1615.404444</td>\n",
       "    </tr>\n",
       "    <tr>\n",
       "      <th>13</th>\n",
       "      <td>MARIA DOS SANTOS</td>\n",
       "      <td>1731.053333</td>\n",
       "    </tr>\n",
       "    <tr>\n",
       "      <th>14</th>\n",
       "      <td>HORALDO BIROLLI</td>\n",
       "      <td>1756.187778</td>\n",
       "    </tr>\n",
       "    <tr>\n",
       "      <th>15</th>\n",
       "      <td>ZENAIDE DA SILVA NASCIMENTO</td>\n",
       "      <td>1765.946667</td>\n",
       "    </tr>\n",
       "    <tr>\n",
       "      <th>16</th>\n",
       "      <td>ISAEL FERNANDES</td>\n",
       "      <td>1782.016667</td>\n",
       "    </tr>\n",
       "    <tr>\n",
       "      <th>17</th>\n",
       "      <td>ABIGAIL CANDIDO BERTOLINI</td>\n",
       "      <td>1808.120000</td>\n",
       "    </tr>\n",
       "    <tr>\n",
       "      <th>18</th>\n",
       "      <td>ELZA CARVALHO DOS SANTOS MANOEL</td>\n",
       "      <td>1858.646667</td>\n",
       "    </tr>\n",
       "    <tr>\n",
       "      <th>19</th>\n",
       "      <td>DIVANIR ALVES DE SOUZA SILVA</td>\n",
       "      <td>1897.726667</td>\n",
       "    </tr>\n",
       "    <tr>\n",
       "      <th>20</th>\n",
       "      <td>ENAIDE LAZARINI</td>\n",
       "      <td>1948.612222</td>\n",
       "    </tr>\n",
       "    <tr>\n",
       "      <th>21</th>\n",
       "      <td>IRMA FREITAS</td>\n",
       "      <td>1968.060000</td>\n",
       "    </tr>\n",
       "    <tr>\n",
       "      <th>22</th>\n",
       "      <td>ANTONIO MELO DE OLIVEIRA</td>\n",
       "      <td>2005.695556</td>\n",
       "    </tr>\n",
       "    <tr>\n",
       "      <th>23</th>\n",
       "      <td>RAUL JOAO STEFANINI</td>\n",
       "      <td>2010.023333</td>\n",
       "    </tr>\n",
       "    <tr>\n",
       "      <th>24</th>\n",
       "      <td>ALBERT DE OLIVEIRA SILVA</td>\n",
       "      <td>2026.698889</td>\n",
       "    </tr>\n",
       "    <tr>\n",
       "      <th>25</th>\n",
       "      <td>AMELIA MARIA HILARIO</td>\n",
       "      <td>2050.673333</td>\n",
       "    </tr>\n",
       "    <tr>\n",
       "      <th>26</th>\n",
       "      <td>ANA IRIS MARTINO DOS SANTOS</td>\n",
       "      <td>2050.803333</td>\n",
       "    </tr>\n",
       "    <tr>\n",
       "      <th>27</th>\n",
       "      <td>ADEZIRA VIEIRA DOS SANTOS</td>\n",
       "      <td>2060.864444</td>\n",
       "    </tr>\n",
       "    <tr>\n",
       "      <th>28</th>\n",
       "      <td>CARLOS ROBERTO DE MELO</td>\n",
       "      <td>2090.253333</td>\n",
       "    </tr>\n",
       "    <tr>\n",
       "      <th>29</th>\n",
       "      <td>ANA ALICE SANTOS SILVA</td>\n",
       "      <td>2094.602222</td>\n",
       "    </tr>\n",
       "    <tr>\n",
       "      <th>...</th>\n",
       "      <td>...</td>\n",
       "      <td>...</td>\n",
       "    </tr>\n",
       "    <tr>\n",
       "      <th>13740</th>\n",
       "      <td>ATHANASE BILLIS</td>\n",
       "      <td>19921.281111</td>\n",
       "    </tr>\n",
       "    <tr>\n",
       "      <th>13741</th>\n",
       "      <td>GABRIEL HESSEL</td>\n",
       "      <td>19957.554444</td>\n",
       "    </tr>\n",
       "    <tr>\n",
       "      <th>13742</th>\n",
       "      <td>CECILIA AMELIA FAZZIO ESCANHOELA</td>\n",
       "      <td>19964.641111</td>\n",
       "    </tr>\n",
       "    <tr>\n",
       "      <th>13743</th>\n",
       "      <td>MARIA CRISTINA VOLPATO</td>\n",
       "      <td>20078.324444</td>\n",
       "    </tr>\n",
       "    <tr>\n",
       "      <th>13744</th>\n",
       "      <td>AMIR ORDACGI CALDEIRA</td>\n",
       "      <td>20103.583333</td>\n",
       "    </tr>\n",
       "    <tr>\n",
       "      <th>13745</th>\n",
       "      <td>FRANCISCO BENJAMIN DE SOUZA NETTO</td>\n",
       "      <td>20136.160000</td>\n",
       "    </tr>\n",
       "    <tr>\n",
       "      <th>13746</th>\n",
       "      <td>LUIZ CARLOS ZEFERINO</td>\n",
       "      <td>20216.738889</td>\n",
       "    </tr>\n",
       "    <tr>\n",
       "      <th>13747</th>\n",
       "      <td>ALBERT JAMES KASCHERES</td>\n",
       "      <td>20397.505556</td>\n",
       "    </tr>\n",
       "    <tr>\n",
       "      <th>13748</th>\n",
       "      <td>ARCHIMEDES PEREZ FILHO</td>\n",
       "      <td>20401.255556</td>\n",
       "    </tr>\n",
       "    <tr>\n",
       "      <th>13749</th>\n",
       "      <td>ALOISIO JOSE ANTUNES</td>\n",
       "      <td>20409.172222</td>\n",
       "    </tr>\n",
       "    <tr>\n",
       "      <th>13750</th>\n",
       "      <td>ANTONIO CARLOS BOSCHIERO</td>\n",
       "      <td>20753.126667</td>\n",
       "    </tr>\n",
       "    <tr>\n",
       "      <th>13751</th>\n",
       "      <td>CARLOS ALFREDO BAPTISTA DE CAMPOS</td>\n",
       "      <td>20776.918889</td>\n",
       "    </tr>\n",
       "    <tr>\n",
       "      <th>13752</th>\n",
       "      <td>FERMINO FERNANDES SISTO</td>\n",
       "      <td>20794.407778</td>\n",
       "    </tr>\n",
       "    <tr>\n",
       "      <th>13753</th>\n",
       "      <td>MARILDA MAZZALI</td>\n",
       "      <td>21041.595556</td>\n",
       "    </tr>\n",
       "    <tr>\n",
       "      <th>13754</th>\n",
       "      <td>CARLOS ALONSO BARBOSA DE OLIVEIRA</td>\n",
       "      <td>21092.008889</td>\n",
       "    </tr>\n",
       "    <tr>\n",
       "      <th>13755</th>\n",
       "      <td>CESAR JOSE BONJUANI PAGAN</td>\n",
       "      <td>21449.694444</td>\n",
       "    </tr>\n",
       "    <tr>\n",
       "      <th>13756</th>\n",
       "      <td>IVAN EMILIO CHAMBOULEYRON</td>\n",
       "      <td>21529.033333</td>\n",
       "    </tr>\n",
       "    <tr>\n",
       "      <th>13757</th>\n",
       "      <td>ADIL MUHIB SAMARA</td>\n",
       "      <td>21649.618889</td>\n",
       "    </tr>\n",
       "    <tr>\n",
       "      <th>13758</th>\n",
       "      <td>ANDRE MARIA POMPEU VILLALOBOS</td>\n",
       "      <td>21852.827778</td>\n",
       "    </tr>\n",
       "    <tr>\n",
       "      <th>13759</th>\n",
       "      <td>ANTONIO ARNONI PRADO</td>\n",
       "      <td>22287.253333</td>\n",
       "    </tr>\n",
       "    <tr>\n",
       "      <th>13760</th>\n",
       "      <td>NELO DA SILVA ALLAN</td>\n",
       "      <td>22618.762222</td>\n",
       "    </tr>\n",
       "    <tr>\n",
       "      <th>13761</th>\n",
       "      <td>ALCIBIADES RIGAS</td>\n",
       "      <td>22634.598889</td>\n",
       "    </tr>\n",
       "    <tr>\n",
       "      <th>13762</th>\n",
       "      <td>ANTONIO FAGGIANI</td>\n",
       "      <td>22696.610000</td>\n",
       "    </tr>\n",
       "    <tr>\n",
       "      <th>13763</th>\n",
       "      <td>ANGELICA DE FATIMA DE ASSUNCAO BRAGA</td>\n",
       "      <td>23089.822222</td>\n",
       "    </tr>\n",
       "    <tr>\n",
       "      <th>13764</th>\n",
       "      <td>FERNANDO GALEMBECK</td>\n",
       "      <td>23276.758889</td>\n",
       "    </tr>\n",
       "    <tr>\n",
       "      <th>13765</th>\n",
       "      <td>ANTONIO WILSON SALLUM</td>\n",
       "      <td>23509.667778</td>\n",
       "    </tr>\n",
       "    <tr>\n",
       "      <th>13766</th>\n",
       "      <td>PATRICIA MARIA MORATO LOPES</td>\n",
       "      <td>25083.344444</td>\n",
       "    </tr>\n",
       "    <tr>\n",
       "      <th>13767</th>\n",
       "      <td>MARIA CRISTINA VALIM LOURENCO GOMES</td>\n",
       "      <td>25319.146667</td>\n",
       "    </tr>\n",
       "    <tr>\n",
       "      <th>13768</th>\n",
       "      <td>OCTACILIO MACHADO RIBEIRO</td>\n",
       "      <td>25372.423333</td>\n",
       "    </tr>\n",
       "    <tr>\n",
       "      <th>13769</th>\n",
       "      <td>ADILSON ROBERTO CARDOSO</td>\n",
       "      <td>28876.961111</td>\n",
       "    </tr>\n",
       "  </tbody>\n",
       "</table>\n",
       "<p>13770 rows × 2 columns</p>\n",
       "</div>"
      ],
      "text/plain": [
       "                                           Nome  Remuneração Líquida\n",
       "0                      ADELICIA SILVA FRANCISCO           456.390000\n",
       "1                                  AMAURY PIRES           620.830000\n",
       "2                                ADAIL DE SOUZA           860.070000\n",
       "3                   THEREZINHA DA SILVA MARIANO          1232.155556\n",
       "4                                 ALCIDES RAMOS          1240.090000\n",
       "5            ALCIDIA FERREIRA DE ARAUJO PEREIRA          1397.555556\n",
       "6                       ADACIR APARECIDA CAMPOS          1423.173333\n",
       "7                ALICE SILVA MARIANO DE ANDRADE          1434.603333\n",
       "8                              ALCIDES DA SILVA          1446.681111\n",
       "9                                ALCINO MARTINS          1451.196667\n",
       "10     AMELIA AMERICANO FRANCO DOMINGUES CASTRO          1481.483333\n",
       "11        APARECIDA DE JESUS DA SILVA BRAMBILLA          1566.773333\n",
       "12                    APARECIDA DE LIMA MARTINS          1615.404444\n",
       "13                             MARIA DOS SANTOS          1731.053333\n",
       "14                              HORALDO BIROLLI          1756.187778\n",
       "15                  ZENAIDE DA SILVA NASCIMENTO          1765.946667\n",
       "16                              ISAEL FERNANDES          1782.016667\n",
       "17                    ABIGAIL CANDIDO BERTOLINI          1808.120000\n",
       "18              ELZA CARVALHO DOS SANTOS MANOEL          1858.646667\n",
       "19                 DIVANIR ALVES DE SOUZA SILVA          1897.726667\n",
       "20                              ENAIDE LAZARINI          1948.612222\n",
       "21                                 IRMA FREITAS          1968.060000\n",
       "22                     ANTONIO MELO DE OLIVEIRA          2005.695556\n",
       "23                          RAUL JOAO STEFANINI          2010.023333\n",
       "24                     ALBERT DE OLIVEIRA SILVA          2026.698889\n",
       "25                         AMELIA MARIA HILARIO          2050.673333\n",
       "26                  ANA IRIS MARTINO DOS SANTOS          2050.803333\n",
       "27                    ADEZIRA VIEIRA DOS SANTOS          2060.864444\n",
       "28                       CARLOS ROBERTO DE MELO          2090.253333\n",
       "29                       ANA ALICE SANTOS SILVA          2094.602222\n",
       "...                                         ...                  ...\n",
       "13740                           ATHANASE BILLIS         19921.281111\n",
       "13741                            GABRIEL HESSEL         19957.554444\n",
       "13742          CECILIA AMELIA FAZZIO ESCANHOELA         19964.641111\n",
       "13743                    MARIA CRISTINA VOLPATO         20078.324444\n",
       "13744                     AMIR ORDACGI CALDEIRA         20103.583333\n",
       "13745         FRANCISCO BENJAMIN DE SOUZA NETTO         20136.160000\n",
       "13746                      LUIZ CARLOS ZEFERINO         20216.738889\n",
       "13747                    ALBERT JAMES KASCHERES         20397.505556\n",
       "13748                    ARCHIMEDES PEREZ FILHO         20401.255556\n",
       "13749                      ALOISIO JOSE ANTUNES         20409.172222\n",
       "13750                  ANTONIO CARLOS BOSCHIERO         20753.126667\n",
       "13751         CARLOS ALFREDO BAPTISTA DE CAMPOS         20776.918889\n",
       "13752                   FERMINO FERNANDES SISTO         20794.407778\n",
       "13753                           MARILDA MAZZALI         21041.595556\n",
       "13754         CARLOS ALONSO BARBOSA DE OLIVEIRA         21092.008889\n",
       "13755                 CESAR JOSE BONJUANI PAGAN         21449.694444\n",
       "13756                 IVAN EMILIO CHAMBOULEYRON         21529.033333\n",
       "13757                         ADIL MUHIB SAMARA         21649.618889\n",
       "13758             ANDRE MARIA POMPEU VILLALOBOS         21852.827778\n",
       "13759                      ANTONIO ARNONI PRADO         22287.253333\n",
       "13760                       NELO DA SILVA ALLAN         22618.762222\n",
       "13761                          ALCIBIADES RIGAS         22634.598889\n",
       "13762                          ANTONIO FAGGIANI         22696.610000\n",
       "13763      ANGELICA DE FATIMA DE ASSUNCAO BRAGA         23089.822222\n",
       "13764                        FERNANDO GALEMBECK         23276.758889\n",
       "13765                     ANTONIO WILSON SALLUM         23509.667778\n",
       "13766               PATRICIA MARIA MORATO LOPES         25083.344444\n",
       "13767       MARIA CRISTINA VALIM LOURENCO GOMES         25319.146667\n",
       "13768                 OCTACILIO MACHADO RIBEIRO         25372.423333\n",
       "13769                   ADILSON ROBERTO CARDOSO         28876.961111\n",
       "\n",
       "[13770 rows x 2 columns]"
      ]
     },
     "execution_count": 181,
     "metadata": {},
     "output_type": "execute_result"
    }
   ],
   "source": [
    "df[[\"Nome\", \"Remuneração Líquida\"]]"
   ]
  },
  {
   "cell_type": "markdown",
   "metadata": {},
   "source": [
    "Selecionar apenas as pessoas cujos salários são maiores que 20 mil"
   ]
  },
  {
   "cell_type": "code",
   "execution_count": 183,
   "metadata": {},
   "outputs": [
    {
     "data": {
      "text/html": [
       "<div>\n",
       "<style>\n",
       "    .dataframe thead tr:only-child th {\n",
       "        text-align: right;\n",
       "    }\n",
       "\n",
       "    .dataframe thead th {\n",
       "        text-align: left;\n",
       "    }\n",
       "\n",
       "    .dataframe tbody tr th {\n",
       "        vertical-align: top;\n",
       "    }\n",
       "</style>\n",
       "<table border=\"1\" class=\"dataframe\">\n",
       "  <thead>\n",
       "    <tr style=\"text-align: right;\">\n",
       "      <th></th>\n",
       "      <th>Remuneração Bruta</th>\n",
       "      <th>Remuneração Líquida</th>\n",
       "      <th>Nome</th>\n",
       "    </tr>\n",
       "  </thead>\n",
       "  <tbody>\n",
       "    <tr>\n",
       "      <th>13743</th>\n",
       "      <td>27505.407778</td>\n",
       "      <td>20078.324444</td>\n",
       "      <td>MARIA CRISTINA VOLPATO</td>\n",
       "    </tr>\n",
       "    <tr>\n",
       "      <th>13744</th>\n",
       "      <td>28420.366667</td>\n",
       "      <td>20103.583333</td>\n",
       "      <td>AMIR ORDACGI CALDEIRA</td>\n",
       "    </tr>\n",
       "    <tr>\n",
       "      <th>13745</th>\n",
       "      <td>25911.180000</td>\n",
       "      <td>20136.160000</td>\n",
       "      <td>FRANCISCO BENJAMIN DE SOUZA NETTO</td>\n",
       "    </tr>\n",
       "    <tr>\n",
       "      <th>13746</th>\n",
       "      <td>28870.646667</td>\n",
       "      <td>20216.738889</td>\n",
       "      <td>LUIZ CARLOS ZEFERINO</td>\n",
       "    </tr>\n",
       "    <tr>\n",
       "      <th>13747</th>\n",
       "      <td>22909.744444</td>\n",
       "      <td>20397.505556</td>\n",
       "      <td>ALBERT JAMES KASCHERES</td>\n",
       "    </tr>\n",
       "    <tr>\n",
       "      <th>13748</th>\n",
       "      <td>29789.874444</td>\n",
       "      <td>20401.255556</td>\n",
       "      <td>ARCHIMEDES PEREZ FILHO</td>\n",
       "    </tr>\n",
       "    <tr>\n",
       "      <th>13749</th>\n",
       "      <td>23031.064444</td>\n",
       "      <td>20409.172222</td>\n",
       "      <td>ALOISIO JOSE ANTUNES</td>\n",
       "    </tr>\n",
       "    <tr>\n",
       "      <th>13750</th>\n",
       "      <td>24952.613333</td>\n",
       "      <td>20753.126667</td>\n",
       "      <td>ANTONIO CARLOS BOSCHIERO</td>\n",
       "    </tr>\n",
       "    <tr>\n",
       "      <th>13751</th>\n",
       "      <td>26992.692222</td>\n",
       "      <td>20776.918889</td>\n",
       "      <td>CARLOS ALFREDO BAPTISTA DE CAMPOS</td>\n",
       "    </tr>\n",
       "    <tr>\n",
       "      <th>13752</th>\n",
       "      <td>27894.387778</td>\n",
       "      <td>20794.407778</td>\n",
       "      <td>FERMINO FERNANDES SISTO</td>\n",
       "    </tr>\n",
       "    <tr>\n",
       "      <th>13753</th>\n",
       "      <td>27188.042222</td>\n",
       "      <td>21041.595556</td>\n",
       "      <td>MARILDA MAZZALI</td>\n",
       "    </tr>\n",
       "    <tr>\n",
       "      <th>13754</th>\n",
       "      <td>27099.903333</td>\n",
       "      <td>21092.008889</td>\n",
       "      <td>CARLOS ALONSO BARBOSA DE OLIVEIRA</td>\n",
       "    </tr>\n",
       "    <tr>\n",
       "      <th>13755</th>\n",
       "      <td>27708.155556</td>\n",
       "      <td>21449.694444</td>\n",
       "      <td>CESAR JOSE BONJUANI PAGAN</td>\n",
       "    </tr>\n",
       "    <tr>\n",
       "      <th>13756</th>\n",
       "      <td>26392.808889</td>\n",
       "      <td>21529.033333</td>\n",
       "      <td>IVAN EMILIO CHAMBOULEYRON</td>\n",
       "    </tr>\n",
       "    <tr>\n",
       "      <th>13757</th>\n",
       "      <td>25532.902222</td>\n",
       "      <td>21649.618889</td>\n",
       "      <td>ADIL MUHIB SAMARA</td>\n",
       "    </tr>\n",
       "    <tr>\n",
       "      <th>13758</th>\n",
       "      <td>25900.601111</td>\n",
       "      <td>21852.827778</td>\n",
       "      <td>ANDRE MARIA POMPEU VILLALOBOS</td>\n",
       "    </tr>\n",
       "    <tr>\n",
       "      <th>13759</th>\n",
       "      <td>26849.376667</td>\n",
       "      <td>22287.253333</td>\n",
       "      <td>ANTONIO ARNONI PRADO</td>\n",
       "    </tr>\n",
       "    <tr>\n",
       "      <th>13760</th>\n",
       "      <td>27970.980000</td>\n",
       "      <td>22618.762222</td>\n",
       "      <td>NELO DA SILVA ALLAN</td>\n",
       "    </tr>\n",
       "    <tr>\n",
       "      <th>13761</th>\n",
       "      <td>30307.812222</td>\n",
       "      <td>22634.598889</td>\n",
       "      <td>ALCIBIADES RIGAS</td>\n",
       "    </tr>\n",
       "    <tr>\n",
       "      <th>13762</th>\n",
       "      <td>29648.262222</td>\n",
       "      <td>22696.610000</td>\n",
       "      <td>ANTONIO FAGGIANI</td>\n",
       "    </tr>\n",
       "    <tr>\n",
       "      <th>13763</th>\n",
       "      <td>31530.016667</td>\n",
       "      <td>23089.822222</td>\n",
       "      <td>ANGELICA DE FATIMA DE ASSUNCAO BRAGA</td>\n",
       "    </tr>\n",
       "    <tr>\n",
       "      <th>13764</th>\n",
       "      <td>35151.452222</td>\n",
       "      <td>23276.758889</td>\n",
       "      <td>FERNANDO GALEMBECK</td>\n",
       "    </tr>\n",
       "    <tr>\n",
       "      <th>13765</th>\n",
       "      <td>28294.930000</td>\n",
       "      <td>23509.667778</td>\n",
       "      <td>ANTONIO WILSON SALLUM</td>\n",
       "    </tr>\n",
       "    <tr>\n",
       "      <th>13766</th>\n",
       "      <td>41424.067778</td>\n",
       "      <td>25083.344444</td>\n",
       "      <td>PATRICIA MARIA MORATO LOPES</td>\n",
       "    </tr>\n",
       "    <tr>\n",
       "      <th>13767</th>\n",
       "      <td>31934.915556</td>\n",
       "      <td>25319.146667</td>\n",
       "      <td>MARIA CRISTINA VALIM LOURENCO GOMES</td>\n",
       "    </tr>\n",
       "    <tr>\n",
       "      <th>13768</th>\n",
       "      <td>37729.283333</td>\n",
       "      <td>25372.423333</td>\n",
       "      <td>OCTACILIO MACHADO RIBEIRO</td>\n",
       "    </tr>\n",
       "    <tr>\n",
       "      <th>13769</th>\n",
       "      <td>48882.177778</td>\n",
       "      <td>28876.961111</td>\n",
       "      <td>ADILSON ROBERTO CARDOSO</td>\n",
       "    </tr>\n",
       "  </tbody>\n",
       "</table>\n",
       "</div>"
      ],
      "text/plain": [
       "       Remuneração Bruta  Remuneração Líquida  \\\n",
       "13743       27505.407778         20078.324444   \n",
       "13744       28420.366667         20103.583333   \n",
       "13745       25911.180000         20136.160000   \n",
       "13746       28870.646667         20216.738889   \n",
       "13747       22909.744444         20397.505556   \n",
       "13748       29789.874444         20401.255556   \n",
       "13749       23031.064444         20409.172222   \n",
       "13750       24952.613333         20753.126667   \n",
       "13751       26992.692222         20776.918889   \n",
       "13752       27894.387778         20794.407778   \n",
       "13753       27188.042222         21041.595556   \n",
       "13754       27099.903333         21092.008889   \n",
       "13755       27708.155556         21449.694444   \n",
       "13756       26392.808889         21529.033333   \n",
       "13757       25532.902222         21649.618889   \n",
       "13758       25900.601111         21852.827778   \n",
       "13759       26849.376667         22287.253333   \n",
       "13760       27970.980000         22618.762222   \n",
       "13761       30307.812222         22634.598889   \n",
       "13762       29648.262222         22696.610000   \n",
       "13763       31530.016667         23089.822222   \n",
       "13764       35151.452222         23276.758889   \n",
       "13765       28294.930000         23509.667778   \n",
       "13766       41424.067778         25083.344444   \n",
       "13767       31934.915556         25319.146667   \n",
       "13768       37729.283333         25372.423333   \n",
       "13769       48882.177778         28876.961111   \n",
       "\n",
       "                                       Nome  \n",
       "13743                MARIA CRISTINA VOLPATO  \n",
       "13744                 AMIR ORDACGI CALDEIRA  \n",
       "13745     FRANCISCO BENJAMIN DE SOUZA NETTO  \n",
       "13746                  LUIZ CARLOS ZEFERINO  \n",
       "13747                ALBERT JAMES KASCHERES  \n",
       "13748                ARCHIMEDES PEREZ FILHO  \n",
       "13749                  ALOISIO JOSE ANTUNES  \n",
       "13750              ANTONIO CARLOS BOSCHIERO  \n",
       "13751     CARLOS ALFREDO BAPTISTA DE CAMPOS  \n",
       "13752               FERMINO FERNANDES SISTO  \n",
       "13753                       MARILDA MAZZALI  \n",
       "13754     CARLOS ALONSO BARBOSA DE OLIVEIRA  \n",
       "13755             CESAR JOSE BONJUANI PAGAN  \n",
       "13756             IVAN EMILIO CHAMBOULEYRON  \n",
       "13757                     ADIL MUHIB SAMARA  \n",
       "13758         ANDRE MARIA POMPEU VILLALOBOS  \n",
       "13759                  ANTONIO ARNONI PRADO  \n",
       "13760                   NELO DA SILVA ALLAN  \n",
       "13761                      ALCIBIADES RIGAS  \n",
       "13762                      ANTONIO FAGGIANI  \n",
       "13763  ANGELICA DE FATIMA DE ASSUNCAO BRAGA  \n",
       "13764                    FERNANDO GALEMBECK  \n",
       "13765                 ANTONIO WILSON SALLUM  \n",
       "13766           PATRICIA MARIA MORATO LOPES  \n",
       "13767   MARIA CRISTINA VALIM LOURENCO GOMES  \n",
       "13768             OCTACILIO MACHADO RIBEIRO  \n",
       "13769               ADILSON ROBERTO CARDOSO  "
      ]
     },
     "execution_count": 183,
     "metadata": {},
     "output_type": "execute_result"
    }
   ],
   "source": [
    "df[df[\"Remuneração Líquida\"] > 20000]"
   ]
  },
  {
   "cell_type": "markdown",
   "metadata": {},
   "source": [
    "E, claro, organizar as pessoas por salário pra saber quem ganha mais"
   ]
  },
  {
   "cell_type": "code",
   "execution_count": 184,
   "metadata": {},
   "outputs": [
    {
     "data": {
      "text/html": [
       "<div>\n",
       "<style>\n",
       "    .dataframe thead tr:only-child th {\n",
       "        text-align: right;\n",
       "    }\n",
       "\n",
       "    .dataframe thead th {\n",
       "        text-align: left;\n",
       "    }\n",
       "\n",
       "    .dataframe tbody tr th {\n",
       "        vertical-align: top;\n",
       "    }\n",
       "</style>\n",
       "<table border=\"1\" class=\"dataframe\">\n",
       "  <thead>\n",
       "    <tr style=\"text-align: right;\">\n",
       "      <th></th>\n",
       "      <th>Remuneração Bruta</th>\n",
       "      <th>Remuneração Líquida</th>\n",
       "      <th>Nome</th>\n",
       "    </tr>\n",
       "  </thead>\n",
       "  <tbody>\n",
       "    <tr>\n",
       "      <th>13769</th>\n",
       "      <td>48882.177778</td>\n",
       "      <td>28876.961111</td>\n",
       "      <td>ADILSON ROBERTO CARDOSO</td>\n",
       "    </tr>\n",
       "    <tr>\n",
       "      <th>13768</th>\n",
       "      <td>37729.283333</td>\n",
       "      <td>25372.423333</td>\n",
       "      <td>OCTACILIO MACHADO RIBEIRO</td>\n",
       "    </tr>\n",
       "    <tr>\n",
       "      <th>13767</th>\n",
       "      <td>31934.915556</td>\n",
       "      <td>25319.146667</td>\n",
       "      <td>MARIA CRISTINA VALIM LOURENCO GOMES</td>\n",
       "    </tr>\n",
       "    <tr>\n",
       "      <th>13766</th>\n",
       "      <td>41424.067778</td>\n",
       "      <td>25083.344444</td>\n",
       "      <td>PATRICIA MARIA MORATO LOPES</td>\n",
       "    </tr>\n",
       "    <tr>\n",
       "      <th>13765</th>\n",
       "      <td>28294.930000</td>\n",
       "      <td>23509.667778</td>\n",
       "      <td>ANTONIO WILSON SALLUM</td>\n",
       "    </tr>\n",
       "    <tr>\n",
       "      <th>13764</th>\n",
       "      <td>35151.452222</td>\n",
       "      <td>23276.758889</td>\n",
       "      <td>FERNANDO GALEMBECK</td>\n",
       "    </tr>\n",
       "    <tr>\n",
       "      <th>13763</th>\n",
       "      <td>31530.016667</td>\n",
       "      <td>23089.822222</td>\n",
       "      <td>ANGELICA DE FATIMA DE ASSUNCAO BRAGA</td>\n",
       "    </tr>\n",
       "    <tr>\n",
       "      <th>13762</th>\n",
       "      <td>29648.262222</td>\n",
       "      <td>22696.610000</td>\n",
       "      <td>ANTONIO FAGGIANI</td>\n",
       "    </tr>\n",
       "    <tr>\n",
       "      <th>13761</th>\n",
       "      <td>30307.812222</td>\n",
       "      <td>22634.598889</td>\n",
       "      <td>ALCIBIADES RIGAS</td>\n",
       "    </tr>\n",
       "    <tr>\n",
       "      <th>13760</th>\n",
       "      <td>27970.980000</td>\n",
       "      <td>22618.762222</td>\n",
       "      <td>NELO DA SILVA ALLAN</td>\n",
       "    </tr>\n",
       "  </tbody>\n",
       "</table>\n",
       "</div>"
      ],
      "text/plain": [
       "       Remuneração Bruta  Remuneração Líquida  \\\n",
       "13769       48882.177778         28876.961111   \n",
       "13768       37729.283333         25372.423333   \n",
       "13767       31934.915556         25319.146667   \n",
       "13766       41424.067778         25083.344444   \n",
       "13765       28294.930000         23509.667778   \n",
       "13764       35151.452222         23276.758889   \n",
       "13763       31530.016667         23089.822222   \n",
       "13762       29648.262222         22696.610000   \n",
       "13761       30307.812222         22634.598889   \n",
       "13760       27970.980000         22618.762222   \n",
       "\n",
       "                                       Nome  \n",
       "13769               ADILSON ROBERTO CARDOSO  \n",
       "13768             OCTACILIO MACHADO RIBEIRO  \n",
       "13767   MARIA CRISTINA VALIM LOURENCO GOMES  \n",
       "13766           PATRICIA MARIA MORATO LOPES  \n",
       "13765                 ANTONIO WILSON SALLUM  \n",
       "13764                    FERNANDO GALEMBECK  \n",
       "13763  ANGELICA DE FATIMA DE ASSUNCAO BRAGA  \n",
       "13762                      ANTONIO FAGGIANI  \n",
       "13761                      ALCIBIADES RIGAS  \n",
       "13760                   NELO DA SILVA ALLAN  "
      ]
     },
     "execution_count": 184,
     "metadata": {},
     "output_type": "execute_result"
    }
   ],
   "source": [
    "df.sort_values('Remuneração Líquida', ascending=False).head(10)"
   ]
  },
  {
   "cell_type": "markdown",
   "metadata": {},
   "source": [
    "Podemos também criar um gráfico dos valores"
   ]
  },
  {
   "cell_type": "code",
   "execution_count": 185,
   "metadata": {},
   "outputs": [
    {
     "data": {
      "image/png": "[encoded data removed]",
      "text/plain": [
       "<matplotlib.figure.Figure at 0x1187c3588>"
      ]
     },
     "metadata": {},
     "output_type": "display_data"
    }
   ],
   "source": [
    "df[['Remuneração Bruta', 'Remuneração Líquida']].plot()\n",
    "plt.show()"
   ]
  },
  {
   "cell_type": "markdown",
   "metadata": {},
   "source": [
    "E, por fim, podemos aplicar operações lineares nas colunas e criar colunas novas"
   ]
  },
  {
   "cell_type": "code",
   "execution_count": 186,
   "metadata": {},
   "outputs": [
    {
     "data": {
      "text/html": [
       "<div>\n",
       "<style>\n",
       "    .dataframe thead tr:only-child th {\n",
       "        text-align: right;\n",
       "    }\n",
       "\n",
       "    .dataframe thead th {\n",
       "        text-align: left;\n",
       "    }\n",
       "\n",
       "    .dataframe tbody tr th {\n",
       "        vertical-align: top;\n",
       "    }\n",
       "</style>\n",
       "<table border=\"1\" class=\"dataframe\">\n",
       "  <thead>\n",
       "    <tr style=\"text-align: right;\">\n",
       "      <th></th>\n",
       "      <th>Remuneração Bruta</th>\n",
       "      <th>Remuneração Líquida</th>\n",
       "      <th>Nome</th>\n",
       "      <th>Quadrado do salário</th>\n",
       "    </tr>\n",
       "  </thead>\n",
       "  <tbody>\n",
       "    <tr>\n",
       "      <th>0</th>\n",
       "      <td>465.703333</td>\n",
       "      <td>456.390000</td>\n",
       "      <td>ADELICIA SILVA FRANCISCO</td>\n",
       "      <td>2.082918e+05</td>\n",
       "    </tr>\n",
       "    <tr>\n",
       "      <th>1</th>\n",
       "      <td>1730.240000</td>\n",
       "      <td>620.830000</td>\n",
       "      <td>AMAURY PIRES</td>\n",
       "      <td>3.854299e+05</td>\n",
       "    </tr>\n",
       "    <tr>\n",
       "      <th>2</th>\n",
       "      <td>1803.500000</td>\n",
       "      <td>860.070000</td>\n",
       "      <td>ADAIL DE SOUZA</td>\n",
       "      <td>7.397204e+05</td>\n",
       "    </tr>\n",
       "    <tr>\n",
       "      <th>3</th>\n",
       "      <td>2304.901111</td>\n",
       "      <td>1232.155556</td>\n",
       "      <td>THEREZINHA DA SILVA MARIANO</td>\n",
       "      <td>1.518207e+06</td>\n",
       "    </tr>\n",
       "    <tr>\n",
       "      <th>4</th>\n",
       "      <td>3555.453333</td>\n",
       "      <td>1240.090000</td>\n",
       "      <td>ALCIDES RAMOS</td>\n",
       "      <td>1.537823e+06</td>\n",
       "    </tr>\n",
       "    <tr>\n",
       "      <th>5</th>\n",
       "      <td>1928.996667</td>\n",
       "      <td>1397.555556</td>\n",
       "      <td>ALCIDIA FERREIRA DE ARAUJO PEREIRA</td>\n",
       "      <td>1.953162e+06</td>\n",
       "    </tr>\n",
       "    <tr>\n",
       "      <th>6</th>\n",
       "      <td>2197.283333</td>\n",
       "      <td>1423.173333</td>\n",
       "      <td>ADACIR APARECIDA CAMPOS</td>\n",
       "      <td>2.025422e+06</td>\n",
       "    </tr>\n",
       "    <tr>\n",
       "      <th>7</th>\n",
       "      <td>1434.603333</td>\n",
       "      <td>1434.603333</td>\n",
       "      <td>ALICE SILVA MARIANO DE ANDRADE</td>\n",
       "      <td>2.058087e+06</td>\n",
       "    </tr>\n",
       "    <tr>\n",
       "      <th>8</th>\n",
       "      <td>4071.003333</td>\n",
       "      <td>1446.681111</td>\n",
       "      <td>ALCIDES DA SILVA</td>\n",
       "      <td>2.092886e+06</td>\n",
       "    </tr>\n",
       "    <tr>\n",
       "      <th>9</th>\n",
       "      <td>2170.373333</td>\n",
       "      <td>1451.196667</td>\n",
       "      <td>ALCINO MARTINS</td>\n",
       "      <td>2.105972e+06</td>\n",
       "    </tr>\n",
       "  </tbody>\n",
       "</table>\n",
       "</div>"
      ],
      "text/plain": [
       "   Remuneração Bruta  Remuneração Líquida                                Nome  \\\n",
       "0         465.703333           456.390000            ADELICIA SILVA FRANCISCO   \n",
       "1        1730.240000           620.830000                        AMAURY PIRES   \n",
       "2        1803.500000           860.070000                      ADAIL DE SOUZA   \n",
       "3        2304.901111          1232.155556         THEREZINHA DA SILVA MARIANO   \n",
       "4        3555.453333          1240.090000                       ALCIDES RAMOS   \n",
       "5        1928.996667          1397.555556  ALCIDIA FERREIRA DE ARAUJO PEREIRA   \n",
       "6        2197.283333          1423.173333             ADACIR APARECIDA CAMPOS   \n",
       "7        1434.603333          1434.603333      ALICE SILVA MARIANO DE ANDRADE   \n",
       "8        4071.003333          1446.681111                    ALCIDES DA SILVA   \n",
       "9        2170.373333          1451.196667                      ALCINO MARTINS   \n",
       "\n",
       "   Quadrado do salário  \n",
       "0         2.082918e+05  \n",
       "1         3.854299e+05  \n",
       "2         7.397204e+05  \n",
       "3         1.518207e+06  \n",
       "4         1.537823e+06  \n",
       "5         1.953162e+06  \n",
       "6         2.025422e+06  \n",
       "7         2.058087e+06  \n",
       "8         2.092886e+06  \n",
       "9         2.105972e+06  "
      ]
     },
     "execution_count": 186,
     "metadata": {},
     "output_type": "execute_result"
    }
   ],
   "source": [
    "df['Quadrado do salário'] = df['Remuneração Líquida'] ** 2\n",
    "\n",
    "df.head(10)"
   ]
  },
  {
   "cell_type": "code",
   "execution_count": null,
   "metadata": {
    "collapsed": true
   },
   "outputs": [],
   "source": []
  }
 ],
 "metadata": {
  "kernelspec": {
   "display_name": "Python [conda root]",
   "language": "python",
   "name": "conda-root-py"
  },
  "language_info": {
   "codemirror_mode": {
    "name": "ipython",
    "version": 3
   },
   "file_extension": ".py",
   "mimetype": "text/x-python",
   "name": "python",
   "nbconvert_exporter": "python",
   "pygments_lexer": "ipython3",
   "version": "3.5.3"
  }
 },
 "nbformat": 4,
 "nbformat_minor": 2
}
